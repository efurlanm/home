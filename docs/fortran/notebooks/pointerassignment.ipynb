{
 "cells": [
  {
   "cell_type": "markdown",
   "id": "36091754-e296-48c9-a9da-509d7b444f2d",
   "metadata": {},
   "source": [
    "# Pointer assignment\n",
    "\n",
    "*Last edited: 2024-11-24*\n",
    "\n",
    "Based on:\n",
    "\n",
    "- <https://stackoverflow.com/questions/31885866/what-does-equals-greater-than-mean-in-fortran/>\n",
    "- John Mahaffy. Fortran 90 Lectures. Fortran 90 POINTERs. <https://web.archive.org/web/20230531132345/http://www.personal.psu.edu/jhm/f90/lectures/42.html>\n",
    "- Dennis C. Smolarski, S.J.'s. Math 60 (Scientific Programming). Notes: Fortran-90 Pointers. <https://web.archive.org/web/20150829041610/http://math.scu.edu/~dsmolars/ma60/notesforpnt.html>"
   ]
  },
  {
   "cell_type": "markdown",
   "id": "ce535072-baa1-4643-ae1c-1eba29a972d6",
   "metadata": {},
   "source": [
    "## Pointers\n",
    "\n",
    "Pointers are a key feature of the C programming language, and one reason is the way they pass arguments to functions. In the case of Fortran, they pass the address of an argument to the function, so that both the function and the calling routine agree on the location of the corresponding variable in the argument list. In the case of C, they simply pass the value of the argument to the function, allowing fine-grained control over complex data structures. When the Fortran 90 standard was being drafted, there was a request for this feature, and something a little different was approved, in many ways more powerful and in some ways intentionally crippled, allowing users to be insulated from the details of memory allocation, which for parallel computers is not a bad thing. As a result, **POINTER in Fortran 90 points to variables of your choice, but does not directly tell you the memory address of that variable**. On the surface, it behaves like an executable [EQUIVALENCE](https://stackoverflow.com/questions/74577332/what-is-the-purpose-of-equivalence-in-fortran/) statement, but it actually does much more. The restrictions of the new Fortran 90 constructs allow good portability between different computers, at the expense perhaps of maximum performance. One consequence is that this may require a bit more control over the physical layout of my data structure. [[Source](https://web.archive.org/web/20230531132345/http://www.personal.psu.edu/jhm/f90/lectures/42.html)]\n",
    "\n",
    "The concept of pointers in Fortran-90 is similar, but not identical, to the concept of pointers in other languages that implement it. In brief, a pointer in Fortran-90 is an **alias**, that is an alternative name, for the variable it points to. In practice, this means that Fortra-90 pointer variables:\n",
    "\n",
    "* **do not store addresses**, but evaluate to the same value as the variable they point to;\n",
    "* do not need any sort of \"dereferencing\" (eg, the C/C++ `*` or the Pascal `^`) to obtain the value associated with the pointer variable. \n",
    "\n",
    "The ability to \"point\" to a portion of a big data structure, such as a row or column of an array, is one of the main differences between the ways \"pointers\" can be used in Fortran-90. They can also be used independently as variables like any other variable. As a result, Fortran-90's \"pointer\" variable idea is far more flexible than comparable variables in other programming languages. [[Source](https://web.archive.org/web/20150829041610/http://math.scu.edu/~dsmolars/ma60/notesforpnt.html)]"
   ]
  },
  {
   "cell_type": "markdown",
   "id": "bf9981b8-c103-4410-b7c3-6a8aa2dfec67",
   "metadata": {},
   "source": [
    "## The syntactic element '=>'"
   ]
  },
  {
   "cell_type": "markdown",
   "id": "0cf3b56c-30af-43e9-95e0-687a5a47f9a4",
   "metadata": {},
   "source": [
    "In modern Fortran, the syntactic element `=>` appears in six contexts, the majority of which are closely related. Many, but not all, are connected to pointers. Contexts are pointer assignment, pointer initialization, procedure (pointer) declaration, type-bound procedure declaration, association, and renaming. In many cases, `=>` can be interpreted as a temporary or permanent alternative to reference another entity. In none, however, does `=>` function as an operator, which means that it does not return a result like an operator."
   ]
  },
  {
   "cell_type": "markdown",
   "id": "246b7cfc-16c7-4eef-ad95-d674548c31ac",
   "metadata": {},
   "source": [
    "### Pointer assignment"
   ]
  },
  {
   "cell_type": "markdown",
   "id": "75dffe0f-763c-4cc8-98f2-d659084afe88",
   "metadata": {},
   "source": [
    "\"=>\" is commonly referred to as the pointer assignment operator, though it is not truly an operator as it returns no value."
   ]
  },
  {
   "cell_type": "markdown",
   "id": "923ff6a5-e13d-4461-8072-74eca7bdf860",
   "metadata": {},
   "source": [
    "Examples from <https://fortran-lang.discourse.group/t/understanding-fortran-pointers/1142> :"
   ]
  },
  {
   "cell_type": "code",
   "execution_count": 17,
   "id": "2ba5c31d-02e1-43c7-a29f-c0ea6e6024f2",
   "metadata": {},
   "outputs": [
    {
     "name": "stdout",
     "output_type": "stream",
     "text": [
      "Overwriting p1.f90\n"
     ]
    }
   ],
   "source": [
    "%%writefile p1.f90\n",
    "implicit none\n",
    "integer, pointer :: point\n",
    "integer, target :: targ\n",
    "targ = 3\n",
    "point => targ\n",
    "print*, point, targ\n",
    "end"
   ]
  },
  {
   "cell_type": "code",
   "execution_count": 18,
   "id": "ac41e8ef-1ce5-4d8f-8bac-b6e18890bfbc",
   "metadata": {},
   "outputs": [
    {
     "name": "stdout",
     "output_type": "stream",
     "text": [
      "           3           3\n"
     ]
    }
   ],
   "source": [
    "! gfortran p1.f90 && ./a.out"
   ]
  },
  {
   "cell_type": "code",
   "execution_count": 19,
   "id": "13117592-7a4b-4c10-8e27-85705f9ccb46",
   "metadata": {},
   "outputs": [
    {
     "name": "stdout",
     "output_type": "stream",
     "text": [
      "Overwriting p2.f90\n"
     ]
    }
   ],
   "source": [
    "%%writefile p2.f90\n",
    "implicit none\n",
    "integer, pointer :: point\n",
    "integer, target :: targ\n",
    "point => targ\n",
    "point = 3\n",
    "print*, point, targ\n",
    "end"
   ]
  },
  {
   "cell_type": "code",
   "execution_count": 20,
   "id": "608aa6af-b66c-409d-8a47-d931ea9c80a3",
   "metadata": {},
   "outputs": [
    {
     "name": "stdout",
     "output_type": "stream",
     "text": [
      "           3           3\n"
     ]
    }
   ],
   "source": [
    "! gfortran p2.f90 && ./a.out"
   ]
  },
  {
   "cell_type": "code",
   "execution_count": 39,
   "id": "77c4aa3e-5d51-43de-ad2c-0c9b1b635c9a",
   "metadata": {},
   "outputs": [
    {
     "name": "stdout",
     "output_type": "stream",
     "text": [
      "Overwriting p3.f90\n"
     ]
    }
   ],
   "source": [
    "%%writefile p3.f90\n",
    "implicit none\n",
    "integer, parameter :: n = 6*10**8"
   ]
  },
  {
   "cell_type": "markdown",
   "id": "3be3dc3c-97ef-4622-a055-08962a4b7a1f",
   "metadata": {},
   "source": [
    "To declare a pointer variable, one add the keyword POINTER in the variable declaration before the double colon:"
   ]
  },
  {
   "cell_type": "code",
   "execution_count": 40,
   "id": "cabd0b07-86f8-4b88-901e-23ff1d761ef2",
   "metadata": {},
   "outputs": [
    {
     "name": "stdout",
     "output_type": "stream",
     "text": [
      "Appending to p3.f90\n"
     ]
    }
   ],
   "source": [
    "%%writefile -a p3.f90\n",
    "real   , target    :: x(n)"
   ]
  },
  {
   "cell_type": "markdown",
   "id": "a3d14222-c082-43a1-a114-69ea9d4401e6",
   "metadata": {},
   "source": [
    "One also needs to identify those variables to which Y can point, and this is done by adding the keyword TARGET in the variable declarations of such variables:"
   ]
  },
  {
   "cell_type": "code",
   "execution_count": 41,
   "id": "8dfbb6d7-1443-4232-9bbc-f2857a04bde2",
   "metadata": {},
   "outputs": [
    {
     "name": "stdout",
     "output_type": "stream",
     "text": [
      "Appending to p3.f90\n"
     ]
    }
   ],
   "source": [
    "%%writefile -a p3.f90\n",
    "real   , pointer   :: p1(:),p2(:),p3(:)"
   ]
  },
  {
   "cell_type": "code",
   "execution_count": 42,
   "id": "1520899c-b585-4d98-b722-0ceccaecd1e5",
   "metadata": {},
   "outputs": [
    {
     "name": "stdout",
     "output_type": "stream",
     "text": [
      "Appending to p3.f90\n"
     ]
    }
   ],
   "source": [
    "%%writefile -a p3.f90\n",
    "call random_number(x)"
   ]
  },
  {
   "cell_type": "markdown",
   "id": "f2d5ed80-08f7-4862-966a-7375e1ad4af5",
   "metadata": {},
   "source": [
    "Fortran-90 has introduced a pointer assignment operator which is indicated by using two symbols together in this way: `=>` :"
   ]
  },
  {
   "cell_type": "code",
   "execution_count": 43,
   "id": "221038d7-b9ff-4b35-b55d-6ebbc5fed04e",
   "metadata": {},
   "outputs": [
    {
     "name": "stdout",
     "output_type": "stream",
     "text": [
      "Appending to p3.f90\n"
     ]
    }
   ],
   "source": [
    "%%writefile -a p3.f90\n",
    "p1 => x\n",
    "p2 => x\n",
    "p3 => x"
   ]
  },
  {
   "cell_type": "markdown",
   "id": "d24f86dd-3150-4567-943f-aca66991e3c8",
   "metadata": {},
   "source": [
    "then p1 would, in effect, become an alias for x. One way to think about this, is that after the pointer assignment, in the symbol table, the memory location associated with x is now also the memory location associated with p1. Thus if the value of x changes, so does the value of p1 and vice versa. "
   ]
  },
  {
   "cell_type": "code",
   "execution_count": null,
   "id": "697c187f-be27-4f14-b5c7-2e8ab050147c",
   "metadata": {},
   "outputs": [
    {
     "name": "stdout",
     "output_type": "stream",
     "text": [
      "Appending to p3.f90\n"
     ]
    }
   ],
   "source": [
    "%%writefile -a p3.f90\n",
    "print*,sizeof(x),x(1),p1(1),p2(1),p3(1),x(n),p1(n),p2(n),p3(n)\n",
    "end"
   ]
  },
  {
   "cell_type": "code",
   "execution_count": 38,
   "id": "9d272eb5-e932-4343-9561-af6ebbeb6735",
   "metadata": {},
   "outputs": [
    {
     "name": "stdout",
     "output_type": "stream",
     "text": [
      "           2400000000  0.357109964      0.357109964      0.357109964      0.357109964      0.942338943      0.942338943      0.942338943      0.942338943    \n"
     ]
    }
   ],
   "source": [
    "! gfortran p3.f90 && ./a.out"
   ]
  },
  {
   "cell_type": "markdown",
   "id": "a2aa482c-4623-4522-a0b5-7e8fc81f93df",
   "metadata": {},
   "source": [
    "## `use` association renaming"
   ]
  },
  {
   "cell_type": "markdown",
   "id": "368d1109-950c-4afa-9aee-c360b484b6c0",
   "metadata": {},
   "source": [
    "```Fortran\n",
    "use mod_a, c => a\n",
    "use mod_b, only : cc => bb\n",
    "```\n",
    "Renaming entities uses the associated `=>` element. In these `use` statements, the module entities `a` and `bb` are known by the local names `c` and `cc`."
   ]
  }
 ],
 "metadata": {
  "kernelspec": {
   "display_name": "Python 3 (ipykernel)",
   "language": "python",
   "name": "python3"
  },
  "language_info": {
   "codemirror_mode": {
    "name": "ipython",
    "version": 3
   },
   "file_extension": ".py",
   "mimetype": "text/x-python",
   "name": "python",
   "nbconvert_exporter": "python",
   "pygments_lexer": "ipython3",
   "version": "3.12.5"
  }
 },
 "nbformat": 4,
 "nbformat_minor": 5
}
