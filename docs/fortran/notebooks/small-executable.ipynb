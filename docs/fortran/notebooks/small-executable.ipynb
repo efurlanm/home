{
 "cells": [
  {
   "cell_type": "markdown",
   "id": "fa2b0e0e-ebbb-4f78-bd54-03b68c0d916b",
   "metadata": {},
   "source": [
    "# Fortran small executable\n",
    "\n",
    "*Last edited: 2023-12-10*\n",
    "\n",
    "Some exercises to try to better understand the creation of executables by a compiler. There is also a [Notebook that uses the assembly language](https://efurlanm.github.io/ldi/assembly/small-assembly/)."
   ]
  },
  {
   "cell_type": "code",
   "execution_count": 5,
   "id": "8c226ce1-d071-4f61-8dbf-c2f13e71368d",
   "metadata": {},
   "outputs": [
    {
     "name": "stdout",
     "output_type": "stream",
     "text": [
      "GNU Fortran (Ubuntu 11.4.0-1ubuntu1~22.04) 11.4.0\n",
      "Copyright (C) 2021 Free Software Foundation, Inc.\n",
      "This is free software; see the source for copying conditions.  There is NO\n",
      "warranty; not even for MERCHANTABILITY or FITNESS FOR A PARTICULAR PURPOSE.\n",
      "\n"
     ]
    }
   ],
   "source": [
    "! gfortran --version"
   ]
  },
  {
   "cell_type": "code",
   "execution_count": 39,
   "id": "0e6490ff-827c-436d-8dcb-56a201f247d0",
   "metadata": {},
   "outputs": [
    {
     "name": "stdout",
     "output_type": "stream",
     "text": [
      "Overwriting tiny.f95\n"
     ]
    }
   ],
   "source": [
    "%%writefile tiny.f95\n",
    "program tiny01\n",
    "    call exit(42)\n",
    "end"
   ]
  },
  {
   "cell_type": "code",
   "execution_count": 17,
   "id": "a46434c6",
   "metadata": {},
   "outputs": [
    {
     "name": "stdout",
     "output_type": "stream",
     "text": [
      "52 tiny01.f95\n"
     ]
    }
   ],
   "source": [
    "! wc -c tiny.f95"
   ]
  },
  {
   "cell_type": "code",
   "execution_count": 18,
   "id": "ecbc1f0a-7db7-4678-8325-2b3aef1bdc5e",
   "metadata": {},
   "outputs": [],
   "source": [
    "! gfortran tiny.f95 ; ./a.out ; echo $?"
   ]
  },
  {
   "cell_type": "markdown",
   "id": "3700458c-a4ce-4b13-8a59-e10c9d0e2f14",
   "metadata": {},
   "source": [
    "echo $? will return the exit status of last command"
   ]
  },
  {
   "cell_type": "code",
   "execution_count": 20,
   "id": "31470bea-0503-4d89-ad24-17949804103f",
   "metadata": {},
   "outputs": [
    {
     "name": "stdout",
     "output_type": "stream",
     "text": [
      "16080 a.out\n"
     ]
    }
   ],
   "source": [
    "! wc -c a.out"
   ]
  },
  {
   "cell_type": "code",
   "execution_count": 38,
   "id": "c34f644e-e75b-437f-b6e9-c965410d7a5b",
   "metadata": {},
   "outputs": [
    {
     "name": "stdout",
     "output_type": "stream",
     "text": [
      "Overwriting tiny.c\n"
     ]
    }
   ],
   "source": [
    "%%writefile tiny.c\n",
    "int main(void) {\n",
    "    return 42;\n",
    "}"
   ]
  },
  {
   "cell_type": "code",
   "execution_count": 28,
   "id": "ac48059f-cbb5-4cea-a722-cac951a71c03",
   "metadata": {},
   "outputs": [
    {
     "name": "stdout",
     "output_type": "stream",
     "text": [
      "42\n"
     ]
    }
   ],
   "source": [
    "! gcc tiny.c ; ./a.out ; echo $?"
   ]
  },
  {
   "cell_type": "code",
   "execution_count": 23,
   "id": "d7a1e7e8-0147-46a5-91e5-d773a23a84c8",
   "metadata": {},
   "outputs": [
    {
     "name": "stdout",
     "output_type": "stream",
     "text": [
      "15776 a.out\n"
     ]
    }
   ],
   "source": [
    "! wc -c a.out"
   ]
  },
  {
   "cell_type": "markdown",
   "id": "e49858a7-bc06-485d-ae69-ba55f1900745",
   "metadata": {},
   "source": [
    "-s = strip"
   ]
  },
  {
   "cell_type": "code",
   "execution_count": 30,
   "id": "d91188c2-568c-4ea3-8618-9b6c09e832fe",
   "metadata": {},
   "outputs": [
    {
     "name": "stdout",
     "output_type": "stream",
     "text": [
      "14400 a.out\n"
     ]
    }
   ],
   "source": [
    "! gfortran -s tiny.f95 ; wc -c a.out"
   ]
  },
  {
   "cell_type": "code",
   "execution_count": 29,
   "id": "88b3ba5c-46bd-4486-91c6-0e2301243250",
   "metadata": {},
   "outputs": [
    {
     "name": "stdout",
     "output_type": "stream",
     "text": [
      "14328 a.out\n"
     ]
    }
   ],
   "source": [
    "! gcc -s tiny.c ; wc -c a.out"
   ]
  },
  {
   "cell_type": "markdown",
   "id": "c2d05e19-cafc-4ad1-8e48-1ec995e73c09",
   "metadata": {},
   "source": [
    "-Os = optimize for size"
   ]
  },
  {
   "cell_type": "code",
   "execution_count": 31,
   "id": "38959bd3-a08c-44a1-9bb0-3712712e5ff0",
   "metadata": {},
   "outputs": [
    {
     "name": "stdout",
     "output_type": "stream",
     "text": [
      "14400 a.out\n"
     ]
    }
   ],
   "source": [
    "! gfortran -s -Os tiny.f95 ; wc -c a.out"
   ]
  },
  {
   "cell_type": "code",
   "execution_count": 32,
   "id": "f854c405-b204-4d42-a179-e367bcf7a134",
   "metadata": {},
   "outputs": [
    {
     "name": "stdout",
     "output_type": "stream",
     "text": [
      "14328 a.out\n"
     ]
    }
   ],
   "source": [
    "! gcc -s -Os tiny.c ; wc -c a.out"
   ]
  },
  {
   "cell_type": "markdown",
   "id": "be580e64-a403-4b4a-83de-5c847059b10d",
   "metadata": {},
   "source": [
    "The linker option -nostdlib is used to link a program intended to run standalone. -nostdlib implies the individual options -nodefaultlibs and -nostartfiles"
   ]
  },
  {
   "cell_type": "code",
   "execution_count": 35,
   "id": "700e0e97-4157-4a87-aed9-94e1daeff91e",
   "metadata": {},
   "outputs": [
    {
     "name": "stdout",
     "output_type": "stream",
     "text": [
      "/usr/bin/ld: warning: cannot find entry symbol _start; defaulting to 0000000000001040\n",
      "/usr/bin/ld: /tmp/ccGEs0Cl.o: in function `MAIN__':\n",
      "tiny01.f95:(.text+0x14): undefined reference to `_gfortran_exit_i4'\n",
      "/usr/bin/ld: /tmp/ccGEs0Cl.o: in function `main':\n",
      "tiny01.f95:(.text+0x34): undefined reference to `_gfortran_set_args'\n",
      "/usr/bin/ld: tiny01.f95:(.text+0x48): undefined reference to `_gfortran_set_options'\n",
      "collect2: error: ld returned 1 exit status\n",
      "wc: a.out: No such file or directory\n"
     ]
    }
   ],
   "source": [
    "! gfortran -s -nostdlib tiny.f95"
   ]
  },
  {
   "cell_type": "code",
   "execution_count": 36,
   "id": "0d6c13fc-6f09-46ee-8768-c1066dc3e1b7",
   "metadata": {},
   "outputs": [
    {
     "name": "stdout",
     "output_type": "stream",
     "text": [
      "/usr/bin/ld: warning: cannot find entry symbol _start; defaulting to 0000000000001000\n",
      "13296 a.out\n"
     ]
    }
   ],
   "source": [
    "! gcc -s -nostdlib tiny.c ; wc -c a.out"
   ]
  },
  {
   "cell_type": "code",
   "execution_count": 41,
   "id": "c6abdffe-7fda-4c65-800f-bf6056ad41b2",
   "metadata": {},
   "outputs": [
    {
     "name": "stdout",
     "output_type": "stream",
     "text": [
      "/usr/bin/ld: warning: cannot find entry symbol _start; defaulting to 0000000000001000\n",
      "13296 a.out\n"
     ]
    }
   ],
   "source": [
    "! gcc -s -nostdlib tiny.c ; wc -c a.out"
   ]
  },
  {
   "cell_type": "code",
   "execution_count": 42,
   "id": "c408ff4f-e12e-40d2-bf15-4d9fa440b720",
   "metadata": {},
   "outputs": [
    {
     "name": "stdout",
     "output_type": "stream",
     "text": [
      "/usr/bin/ld: warning: cannot find entry symbol _start; defaulting to 0000000000001000\n",
      "13296 a.out\n"
     ]
    }
   ],
   "source": [
    "! gcc -s -nostdlib -lgcc tiny.c ; wc -c a.out"
   ]
  },
  {
   "cell_type": "markdown",
   "id": "d3b72d11-ab7b-415e-8520-64e5f09d28fe",
   "metadata": {},
   "source": [
    "The option -nostartfiles instructs the linker to not use the standard system startup functions nor link the code containing those functions."
   ]
  },
  {
   "cell_type": "code",
   "execution_count": 44,
   "id": "0eba0ebf-c1fd-49c9-82cc-fd548aeff1de",
   "metadata": {},
   "outputs": [
    {
     "name": "stdout",
     "output_type": "stream",
     "text": [
      "/usr/bin/ld: warning: cannot find entry symbol _start; defaulting to 0000000000001000\n",
      "13296 a.out\n"
     ]
    }
   ],
   "source": [
    "! gcc -s -nostartfiles tiny.c ; wc -c a.out"
   ]
  },
  {
   "cell_type": "code",
   "execution_count": 47,
   "id": "e67b531d-0e6b-458f-8f6e-995c6203fc27",
   "metadata": {},
   "outputs": [
    {
     "name": "stdout",
     "output_type": "stream",
     "text": [
      "/usr/bin/ld: warning: cannot find entry symbol _start; defaulting to 0000000000001000\n",
      "13296 a.out\n"
     ]
    }
   ],
   "source": [
    "! gcc -s -nostartfiles -nostdlib -nodefaultlibs tiny.c ; wc -c a.out"
   ]
  },
  {
   "cell_type": "code",
   "execution_count": 48,
   "id": "d03e470a-f4b0-4750-b1a4-59e9e6af636e",
   "metadata": {},
   "outputs": [
    {
     "name": "stdout",
     "output_type": "stream",
     "text": [
      "13296 a.out\n"
     ]
    }
   ],
   "source": [
    "! strip --strip-all a.out ; wc -c a.out"
   ]
  },
  {
   "cell_type": "code",
   "execution_count": 51,
   "id": "b88d3e04-2627-4657-b884-bda8e1c68a97",
   "metadata": {},
   "outputs": [
    {
     "name": "stdout",
     "output_type": "stream",
     "text": [
      "13016 a.out\n"
     ]
    }
   ],
   "source": [
    "! strip --strip-all --remove-section=.comment --remove-section=.note* a.out ; wc -c a.out"
   ]
  },
  {
   "cell_type": "code",
   "execution_count": 52,
   "id": "cdcf105a-e10a-41d0-80ba-3e6f9cb9e505",
   "metadata": {
    "scrolled": true
   },
   "outputs": [
    {
     "name": "stdout",
     "output_type": "stream",
     "text": [
      "\n",
      "a.out:     file format elf64-x86-64\n",
      "a.out\n",
      "architecture: i386:x86-64, flags 0x00000150:\n",
      "HAS_SYMS, DYNAMIC, D_PAGED\n",
      "start address 0x0000000000001000\n",
      "\n",
      "Program Header:\n",
      "    PHDR off    0x0000000000000040 vaddr 0x0000000000000040 paddr 0x0000000000000040 align 2**3\n",
      "         filesz 0x00000000000002a0 memsz 0x00000000000002a0 flags r--\n",
      "  INTERP off    0x0000000000000318 vaddr 0x0000000000000318 paddr 0x0000000000000318 align 2**0\n",
      "         filesz 0x000000000000001c memsz 0x000000000000001c flags r--\n",
      "    LOAD off    0x0000000000000000 vaddr 0x0000000000000000 paddr 0x0000000000000000 align 2**12\n",
      "         filesz 0x00000000000003b9 memsz 0x00000000000003b9 flags r--\n",
      "    LOAD off    0x0000000000001000 vaddr 0x0000000000001000 paddr 0x0000000000001000 align 2**12\n",
      "         filesz 0x000000000000000f memsz 0x000000000000000f flags r-x\n",
      "    LOAD off    0x0000000000002000 vaddr 0x0000000000002000 paddr 0x0000000000002000 align 2**12\n",
      "         filesz 0x0000000000000050 memsz 0x0000000000000050 flags r--\n",
      "    LOAD off    0x0000000000002f20 vaddr 0x0000000000003f20 paddr 0x0000000000003f20 align 2**12\n",
      "         filesz 0x00000000000000e0 memsz 0x00000000000000e0 flags rw-\n",
      " DYNAMIC off    0x0000000000002f20 vaddr 0x0000000000003f20 paddr 0x0000000000003f20 align 2**3\n",
      "         filesz 0x00000000000000e0 memsz 0x00000000000000e0 flags rw-\n",
      "    NOTE off    0x0000000000000000 vaddr 0x0000000000000338 paddr 0x0000000000000000 align 2**3\n",
      "         filesz 0x0000000000000000 memsz 0x0000000000000000 flags r--\n",
      "    NOTE off    0x0000000000000000 vaddr 0x0000000000000358 paddr 0x0000000000000000 align 2**3\n",
      "         filesz 0x0000000000000000 memsz 0x0000000000000000 flags r--\n",
      "0x6474e553 off    0x0000000000000000 vaddr 0x0000000000000338 paddr 0x0000000000000000 align 2**3\n",
      "         filesz 0x0000000000000000 memsz 0x0000000000000000 flags r--\n",
      "EH_FRAME off    0x0000000000002000 vaddr 0x0000000000002000 paddr 0x0000000000002000 align 2**2\n",
      "         filesz 0x0000000000000014 memsz 0x0000000000000014 flags r--\n",
      "   STACK off    0x0000000000000000 vaddr 0x0000000000000000 paddr 0x0000000000000000 align 2**3\n",
      "         filesz 0x0000000000000000 memsz 0x0000000000000000 flags rw-\n",
      "\n",
      "Dynamic Section:\n",
      "  GNU_HASH             0x0000000000000380\n",
      "  STRTAB               0x00000000000003b8\n",
      "  SYMTAB               0x00000000000003a0\n",
      "  STRSZ                0x0000000000000001\n",
      "  SYMENT               0x0000000000000018\n",
      "  DEBUG                0x0000000000000000\n",
      "  FLAGS                0x0000000000000008\n",
      "  FLAGS_1              0x0000000008000001\n",
      "\n",
      "Sections:\n",
      "Idx Name          Size      VMA               LMA               File off  Algn\n",
      "  0 .interp       0000001c  0000000000000318  0000000000000318  00000318  2**0\n",
      "                  CONTENTS, ALLOC, LOAD, READONLY, DATA\n",
      "  1 .gnu.hash     0000001c  0000000000000380  0000000000000380  00000380  2**3\n",
      "                  CONTENTS, ALLOC, LOAD, READONLY, DATA\n",
      "  2 .dynsym       00000018  00000000000003a0  00000000000003a0  000003a0  2**3\n",
      "                  CONTENTS, ALLOC, LOAD, READONLY, DATA\n",
      "  3 .dynstr       00000001  00000000000003b8  00000000000003b8  000003b8  2**0\n",
      "                  CONTENTS, ALLOC, LOAD, READONLY, DATA\n",
      "  4 .text         0000000f  0000000000001000  0000000000001000  00001000  2**0\n",
      "                  CONTENTS, ALLOC, LOAD, READONLY, CODE\n",
      "  5 .eh_frame_hdr 00000014  0000000000002000  0000000000002000  00002000  2**2\n",
      "                  CONTENTS, ALLOC, LOAD, READONLY, DATA\n",
      "  6 .eh_frame     00000038  0000000000002018  0000000000002018  00002018  2**3\n",
      "                  CONTENTS, ALLOC, LOAD, READONLY, DATA\n",
      "  7 .dynamic      000000e0  0000000000003f20  0000000000003f20  00002f20  2**3\n",
      "                  CONTENTS, ALLOC, LOAD, DATA\n",
      "SYMBOL TABLE:\n",
      "no symbols\n",
      "\n",
      "\n"
     ]
    }
   ],
   "source": [
    "! objdump -x a.out"
   ]
  },
  {
   "cell_type": "markdown",
   "id": "279a614c-6594-4a45-bfb7-68cff690290c",
   "metadata": {},
   "source": [
    "The -Wl,xxx option for gcc passes a comma-separated list of tokens as a space-separated list of arguments to the linker.\n",
    "To tell the compiler to put functions and data definitions in own sections, we use the little-known -ffunction-sections and -fdata-sections flags to GCC. Then we tell the linker to garbage collect unused sections with --gc-sections."
   ]
  },
  {
   "cell_type": "code",
   "execution_count": 53,
   "id": "88495fc8-815d-4fc4-b128-651f36d01254",
   "metadata": {},
   "outputs": [
    {
     "name": "stdout",
     "output_type": "stream",
     "text": [
      "14248 a.out\n"
     ]
    }
   ],
   "source": [
    "! gcc -s -Wl,--gc-sections -ffunction-sections -fdata-sections tiny.c ; wc -c a.out"
   ]
  },
  {
   "cell_type": "code",
   "execution_count": 54,
   "id": "7acc3165-9f84-421e-b4fc-141671289f1a",
   "metadata": {
    "scrolled": true
   },
   "outputs": [
    {
     "name": "stdout",
     "output_type": "stream",
     "text": [
      "\n",
      "a.out:     file format elf64-x86-64\n",
      "a.out\n",
      "architecture: i386:x86-64, flags 0x00000150:\n",
      "HAS_SYMS, DYNAMIC, D_PAGED\n",
      "start address 0x0000000000001040\n",
      "\n",
      "Program Header:\n",
      "    PHDR off    0x0000000000000040 vaddr 0x0000000000000040 paddr 0x0000000000000040 align 2**3\n",
      "         filesz 0x00000000000002d8 memsz 0x00000000000002d8 flags r--\n",
      "  INTERP off    0x0000000000000318 vaddr 0x0000000000000318 paddr 0x0000000000000318 align 2**0\n",
      "         filesz 0x000000000000001c memsz 0x000000000000001c flags r--\n",
      "    LOAD off    0x0000000000000000 vaddr 0x0000000000000000 paddr 0x0000000000000000 align 2**12\n",
      "         filesz 0x00000000000005f0 memsz 0x00000000000005f0 flags r--\n",
      "    LOAD off    0x0000000000001000 vaddr 0x0000000000001000 paddr 0x0000000000001000 align 2**12\n",
      "         filesz 0x0000000000000145 memsz 0x0000000000000145 flags r-x\n",
      "    LOAD off    0x0000000000002000 vaddr 0x0000000000002000 paddr 0x0000000000002000 align 2**12\n",
      "         filesz 0x00000000000000c4 memsz 0x00000000000000c4 flags r--\n",
      "    LOAD off    0x0000000000002df0 vaddr 0x0000000000003df0 paddr 0x0000000000003df0 align 2**12\n",
      "         filesz 0x0000000000000218 memsz 0x0000000000000220 flags rw-\n",
      " DYNAMIC off    0x0000000000002e00 vaddr 0x0000000000003e00 paddr 0x0000000000003e00 align 2**3\n",
      "         filesz 0x00000000000001c0 memsz 0x00000000000001c0 flags rw-\n",
      "    NOTE off    0x0000000000000338 vaddr 0x0000000000000338 paddr 0x0000000000000338 align 2**3\n",
      "         filesz 0x0000000000000030 memsz 0x0000000000000030 flags r--\n",
      "    NOTE off    0x0000000000000368 vaddr 0x0000000000000368 paddr 0x0000000000000368 align 2**2\n",
      "         filesz 0x0000000000000044 memsz 0x0000000000000044 flags r--\n",
      "0x6474e553 off    0x0000000000000338 vaddr 0x0000000000000338 paddr 0x0000000000000338 align 2**3\n",
      "         filesz 0x0000000000000030 memsz 0x0000000000000030 flags r--\n",
      "EH_FRAME off    0x0000000000002000 vaddr 0x0000000000002000 paddr 0x0000000000002000 align 2**2\n",
      "         filesz 0x000000000000002c memsz 0x000000000000002c flags r--\n",
      "   STACK off    0x0000000000000000 vaddr 0x0000000000000000 paddr 0x0000000000000000 align 2**4\n",
      "         filesz 0x0000000000000000 memsz 0x0000000000000000 flags rw-\n",
      "   RELRO off    0x0000000000002df0 vaddr 0x0000000000003df0 paddr 0x0000000000003df0 align 2**0\n",
      "         filesz 0x0000000000000210 memsz 0x0000000000000210 flags r--\n",
      "\n",
      "Dynamic Section:\n",
      "  NEEDED               libc.so.6\n",
      "  INIT                 0x0000000000001000\n",
      "  FINI                 0x0000000000001138\n",
      "  INIT_ARRAY           0x0000000000003df0\n",
      "  INIT_ARRAYSZ         0x0000000000000008\n",
      "  FINI_ARRAY           0x0000000000003df8\n",
      "  FINI_ARRAYSZ         0x0000000000000008\n",
      "  GNU_HASH             0x00000000000003b0\n",
      "  STRTAB               0x0000000000000468\n",
      "  SYMTAB               0x00000000000003d8\n",
      "  STRSZ                0x0000000000000088\n",
      "  SYMENT               0x0000000000000018\n",
      "  DEBUG                0x0000000000000000\n",
      "  PLTGOT               0x0000000000003fc0\n",
      "  RELA                 0x0000000000000530\n",
      "  RELASZ               0x00000000000000c0\n",
      "  RELAENT              0x0000000000000018\n",
      "  FLAGS                0x0000000000000008\n",
      "  FLAGS_1              0x0000000008000001\n",
      "  VERNEED              0x0000000000000500\n",
      "  VERNEEDNUM           0x0000000000000001\n",
      "  VERSYM               0x00000000000004f0\n",
      "  RELACOUNT            0x0000000000000003\n",
      "\n",
      "Version References:\n",
      "  required from libc.so.6:\n",
      "    0x09691a75 0x00 03 GLIBC_2.2.5\n",
      "    0x069691b4 0x00 02 GLIBC_2.34\n",
      "\n",
      "Sections:\n",
      "Idx Name          Size      VMA               LMA               File off  Algn\n",
      "  0 .interp       0000001c  0000000000000318  0000000000000318  00000318  2**0\n",
      "                  CONTENTS, ALLOC, LOAD, READONLY, DATA\n",
      "  1 .note.gnu.property 00000030  0000000000000338  0000000000000338  00000338  2**3\n",
      "                  CONTENTS, ALLOC, LOAD, READONLY, DATA\n",
      "  2 .note.gnu.build-id 00000024  0000000000000368  0000000000000368  00000368  2**2\n",
      "                  CONTENTS, ALLOC, LOAD, READONLY, DATA\n",
      "  3 .note.ABI-tag 00000020  000000000000038c  000000000000038c  0000038c  2**2\n",
      "                  CONTENTS, ALLOC, LOAD, READONLY, DATA\n",
      "  4 .gnu.hash     00000024  00000000000003b0  00000000000003b0  000003b0  2**3\n",
      "                  CONTENTS, ALLOC, LOAD, READONLY, DATA\n",
      "  5 .dynsym       00000090  00000000000003d8  00000000000003d8  000003d8  2**3\n",
      "                  CONTENTS, ALLOC, LOAD, READONLY, DATA\n",
      "  6 .dynstr       00000088  0000000000000468  0000000000000468  00000468  2**0\n",
      "                  CONTENTS, ALLOC, LOAD, READONLY, DATA\n",
      "  7 .gnu.version  0000000c  00000000000004f0  00000000000004f0  000004f0  2**1\n",
      "                  CONTENTS, ALLOC, LOAD, READONLY, DATA\n",
      "  8 .gnu.version_r 00000030  0000000000000500  0000000000000500  00000500  2**3\n",
      "                  CONTENTS, ALLOC, LOAD, READONLY, DATA\n",
      "  9 .rela.dyn     000000c0  0000000000000530  0000000000000530  00000530  2**3\n",
      "                  CONTENTS, ALLOC, LOAD, READONLY, DATA\n",
      " 10 .init         0000001b  0000000000001000  0000000000001000  00001000  2**2\n",
      "                  CONTENTS, ALLOC, LOAD, READONLY, CODE\n",
      " 11 .plt          00000010  0000000000001020  0000000000001020  00001020  2**4\n",
      "                  CONTENTS, ALLOC, LOAD, READONLY, CODE\n",
      " 12 .plt.got      00000010  0000000000001030  0000000000001030  00001030  2**4\n",
      "                  CONTENTS, ALLOC, LOAD, READONLY, CODE\n",
      " 13 .text         000000f8  0000000000001040  0000000000001040  00001040  2**4\n",
      "                  CONTENTS, ALLOC, LOAD, READONLY, CODE\n",
      " 14 .fini         0000000d  0000000000001138  0000000000001138  00001138  2**2\n",
      "                  CONTENTS, ALLOC, LOAD, READONLY, CODE\n",
      " 15 .eh_frame_hdr 0000002c  0000000000002000  0000000000002000  00002000  2**2\n",
      "                  CONTENTS, ALLOC, LOAD, READONLY, DATA\n",
      " 16 .eh_frame     00000094  0000000000002030  0000000000002030  00002030  2**3\n",
      "                  CONTENTS, ALLOC, LOAD, READONLY, DATA\n",
      " 17 .init_array   00000008  0000000000003df0  0000000000003df0  00002df0  2**3\n",
      "                  CONTENTS, ALLOC, LOAD, DATA\n",
      " 18 .fini_array   00000008  0000000000003df8  0000000000003df8  00002df8  2**3\n",
      "                  CONTENTS, ALLOC, LOAD, DATA\n",
      " 19 .dynamic      000001c0  0000000000003e00  0000000000003e00  00002e00  2**3\n",
      "                  CONTENTS, ALLOC, LOAD, DATA\n",
      " 20 .got          00000040  0000000000003fc0  0000000000003fc0  00002fc0  2**3\n",
      "                  CONTENTS, ALLOC, LOAD, DATA\n",
      " 21 .data         00000008  0000000000004000  0000000000004000  00003000  2**3\n",
      "                  CONTENTS, ALLOC, LOAD, DATA\n",
      " 22 .bss          00000008  0000000000004008  0000000000004008  00003008  2**0\n",
      "                  ALLOC\n",
      " 23 .comment      0000002b  0000000000000000  0000000000000000  00003008  2**0\n",
      "                  CONTENTS, READONLY\n",
      "SYMBOL TABLE:\n",
      "no symbols\n",
      "\n",
      "\n"
     ]
    }
   ],
   "source": [
    "! objdump -x a.out"
   ]
  },
  {
   "cell_type": "code",
   "execution_count": 56,
   "id": "cf6773b0-37a4-4565-b6d8-e7b0ae52a6e9",
   "metadata": {},
   "outputs": [
    {
     "name": "stdout",
     "output_type": "stream",
     "text": [
      "13664 a.out\n"
     ]
    }
   ],
   "source": [
    "! strip --strip-all --remove-section=.comment --remove-section=.note* --remove-section=.gnu* a.out ; wc -c a.out"
   ]
  },
  {
   "cell_type": "code",
   "execution_count": 57,
   "id": "8c0923a0-bbce-4d0e-93a5-ed480a8b7bdd",
   "metadata": {
    "scrolled": true
   },
   "outputs": [
    {
     "name": "stdout",
     "output_type": "stream",
     "text": [
      "\n",
      "a.out:     file format elf64-x86-64\n",
      "a.out\n",
      "architecture: i386:x86-64, flags 0x00000150:\n",
      "HAS_SYMS, DYNAMIC, D_PAGED\n",
      "start address 0x0000000000001040\n",
      "\n",
      "Program Header:\n",
      "    PHDR off    0x0000000000000040 vaddr 0x0000000000000040 paddr 0x0000000000000040 align 2**3\n",
      "         filesz 0x00000000000002a0 memsz 0x00000000000002a0 flags r--\n",
      "  INTERP off    0x0000000000000318 vaddr 0x0000000000000318 paddr 0x0000000000000318 align 2**0\n",
      "         filesz 0x000000000000001c memsz 0x000000000000001c flags r--\n",
      "    LOAD off    0x0000000000000000 vaddr 0x0000000000000000 paddr 0x0000000000000000 align 2**12\n",
      "         filesz 0x00000000000005f0 memsz 0x00000000000005f0 flags r--\n",
      "    LOAD off    0x0000000000001000 vaddr 0x0000000000001000 paddr 0x0000000000001000 align 2**12\n",
      "         filesz 0x0000000000000145 memsz 0x0000000000000145 flags r-x\n",
      "    LOAD off    0x0000000000002000 vaddr 0x0000000000002000 paddr 0x0000000000002000 align 2**12\n",
      "         filesz 0x00000000000000c4 memsz 0x00000000000000c4 flags r--\n",
      "    LOAD off    0x0000000000002df0 vaddr 0x0000000000003df0 paddr 0x0000000000003df0 align 2**12\n",
      "         filesz 0x0000000000000218 memsz 0x0000000000000220 flags rw-\n",
      " DYNAMIC off    0x0000000000002e00 vaddr 0x0000000000003e00 paddr 0x0000000000003e00 align 2**3\n",
      "         filesz 0x00000000000001c0 memsz 0x00000000000001c0 flags rw-\n",
      "    NOTE off    0x0000000000000000 vaddr 0x0000000000000338 paddr 0x0000000000000000 align 2**3\n",
      "         filesz 0x0000000000000000 memsz 0x0000000000000000 flags r--\n",
      "    NOTE off    0x0000000000000000 vaddr 0x0000000000000368 paddr 0x0000000000000000 align 2**3\n",
      "         filesz 0x0000000000000000 memsz 0x0000000000000000 flags r--\n",
      "0x6474e553 off    0x0000000000000000 vaddr 0x0000000000000338 paddr 0x0000000000000000 align 2**3\n",
      "         filesz 0x0000000000000000 memsz 0x0000000000000000 flags r--\n",
      "EH_FRAME off    0x0000000000002000 vaddr 0x0000000000002000 paddr 0x0000000000002000 align 2**2\n",
      "         filesz 0x000000000000002c memsz 0x000000000000002c flags r--\n",
      "   STACK off    0x0000000000000000 vaddr 0x0000000000000000 paddr 0x0000000000000000 align 2**3\n",
      "         filesz 0x0000000000000000 memsz 0x0000000000000000 flags rw-\n",
      "\n",
      "Dynamic Section:\n",
      "  NEEDED               libc.so.6\n",
      "  INIT                 0x0000000000001000\n",
      "  FINI                 0x0000000000001138\n",
      "  INIT_ARRAY           0x0000000000003df0\n",
      "  INIT_ARRAYSZ         0x0000000000000008\n",
      "  FINI_ARRAY           0x0000000000003df8\n",
      "  FINI_ARRAYSZ         0x0000000000000008\n",
      "  GNU_HASH             0x00000000000003b0\n",
      "  STRTAB               0x0000000000000468\n",
      "  SYMTAB               0x00000000000003d8\n",
      "  STRSZ                0x0000000000000088\n",
      "  SYMENT               0x0000000000000018\n",
      "  DEBUG                0x0000000000000000\n",
      "  PLTGOT               0x0000000000003fc0\n",
      "  RELA                 0x0000000000000530\n",
      "  RELASZ               0x00000000000000c0\n",
      "  RELAENT              0x0000000000000018\n",
      "  FLAGS                0x0000000000000008\n",
      "  FLAGS_1              0x0000000008000001\n",
      "  VERNEED              0x0000000000000500\n",
      "  VERNEEDNUM           0x0000000000000001\n",
      "  VERSYM               0x00000000000004f0\n",
      "  RELACOUNT            0x0000000000000003\n",
      "\n",
      "Sections:\n",
      "Idx Name          Size      VMA               LMA               File off  Algn\n",
      "  0 .interp       0000001c  0000000000000318  0000000000000318  00000318  2**0\n",
      "                  CONTENTS, ALLOC, LOAD, READONLY, DATA\n",
      "  1 .dynsym       00000090  00000000000003d8  00000000000003d8  000003d8  2**3\n",
      "                  CONTENTS, ALLOC, LOAD, READONLY, DATA\n",
      "  2 .dynstr       00000088  0000000000000468  0000000000000468  00000468  2**0\n",
      "                  CONTENTS, ALLOC, LOAD, READONLY, DATA\n",
      "  3 .rela.dyn     000000c0  0000000000000530  0000000000000530  00000530  2**3\n",
      "                  CONTENTS, ALLOC, LOAD, READONLY, DATA\n",
      "  4 .init         0000001b  0000000000001000  0000000000001000  00001000  2**2\n",
      "                  CONTENTS, ALLOC, LOAD, READONLY, CODE\n",
      "  5 .plt          00000010  0000000000001020  0000000000001020  00001020  2**4\n",
      "                  CONTENTS, ALLOC, LOAD, READONLY, CODE\n",
      "  6 .plt.got      00000010  0000000000001030  0000000000001030  00001030  2**4\n",
      "                  CONTENTS, ALLOC, LOAD, READONLY, CODE\n",
      "  7 .text         000000f8  0000000000001040  0000000000001040  00001040  2**4\n",
      "                  CONTENTS, ALLOC, LOAD, READONLY, CODE\n",
      "  8 .fini         0000000d  0000000000001138  0000000000001138  00001138  2**2\n",
      "                  CONTENTS, ALLOC, LOAD, READONLY, CODE\n",
      "  9 .eh_frame_hdr 0000002c  0000000000002000  0000000000002000  00002000  2**2\n",
      "                  CONTENTS, ALLOC, LOAD, READONLY, DATA\n",
      " 10 .eh_frame     00000094  0000000000002030  0000000000002030  00002030  2**3\n",
      "                  CONTENTS, ALLOC, LOAD, READONLY, DATA\n",
      " 11 .init_array   00000008  0000000000003df0  0000000000003df0  00002df0  2**3\n",
      "                  CONTENTS, ALLOC, LOAD, DATA\n",
      " 12 .fini_array   00000008  0000000000003df8  0000000000003df8  00002df8  2**3\n",
      "                  CONTENTS, ALLOC, LOAD, DATA\n",
      " 13 .dynamic      000001c0  0000000000003e00  0000000000003e00  00002e00  2**3\n",
      "                  CONTENTS, ALLOC, LOAD, DATA\n",
      " 14 .got          00000040  0000000000003fc0  0000000000003fc0  00002fc0  2**3\n",
      "                  CONTENTS, ALLOC, LOAD, DATA\n",
      " 15 .data         00000008  0000000000004000  0000000000004000  00003000  2**3\n",
      "                  CONTENTS, ALLOC, LOAD, DATA\n",
      " 16 .bss          00000008  0000000000004008  0000000000004008  00003008  2**0\n",
      "                  ALLOC\n",
      "SYMBOL TABLE:\n",
      "no symbols\n",
      "\n",
      "\n"
     ]
    }
   ],
   "source": [
    "! objdump -x a.out"
   ]
  },
  {
   "cell_type": "code",
   "execution_count": 59,
   "id": "7f0709bc-349e-4cd9-b7b2-9824c73720b7",
   "metadata": {},
   "outputs": [
    {
     "name": "stdout",
     "output_type": "stream",
     "text": [
      "14328 a.out\n"
     ]
    }
   ],
   "source": [
    "! gcc -s tiny.c ; wc -c a.out"
   ]
  },
  {
   "cell_type": "code",
   "execution_count": 58,
   "id": "321b1670-271b-45ef-89f6-4400a1cfdebc",
   "metadata": {},
   "outputs": [
    {
     "name": "stdout",
     "output_type": "stream",
     "text": [
      "14248 a.out\n"
     ]
    }
   ],
   "source": [
    "! gcc -s -Wl,--gc-sections tiny.c ; wc -c a.out"
   ]
  },
  {
   "cell_type": "code",
   "execution_count": 61,
   "id": "bcb136e9-b610-4e03-af14-b2aa3d971f84",
   "metadata": {},
   "outputs": [
    {
     "name": "stdout",
     "output_type": "stream",
     "text": [
      "14248 a.out\n"
     ]
    }
   ],
   "source": [
    "! gcc -s -Wl,--gc-sections -fno-ident -fno-asynchronous-unwind-tables tiny.c ; wc -c a.out"
   ]
  },
  {
   "cell_type": "code",
   "execution_count": 62,
   "id": "0eefa02b-3ffe-4529-a4eb-8337302f22e2",
   "metadata": {},
   "outputs": [
    {
     "name": "stdout",
     "output_type": "stream",
     "text": [
      "/usr/bin/ld: warning: cannot find entry symbol _start; defaulting to 0000000000001000\n",
      "13296 a.out\n"
     ]
    }
   ],
   "source": [
    "! gcc -s -nostdlib tiny.c ; wc -c a.out"
   ]
  },
  {
   "cell_type": "code",
   "execution_count": 64,
   "id": "5971197c-ff7f-4891-aea8-e5febab136f5",
   "metadata": {},
   "outputs": [
    {
     "name": "stdout",
     "output_type": "stream",
     "text": [
      "/usr/bin/ld: warning: cannot find entry symbol _start; defaulting to 0000000000001000\n",
      "13296 a.out\n"
     ]
    }
   ],
   "source": [
    "! gcc -s -nostdlib -nostartfiles tiny.c ; wc -c a.out"
   ]
  },
  {
   "cell_type": "code",
   "execution_count": 65,
   "id": "59a48e5d-d01e-4379-9e45-3b6c5aa16a83",
   "metadata": {},
   "outputs": [
    {
     "name": "stdout",
     "output_type": "stream",
     "text": [
      "14248 a.out\n"
     ]
    }
   ],
   "source": [
    "! gcc -Os -fdata-sections -ffunction-sections -fipa-pta -Wl,--gc-sections,-O1,--as-needed,--strip-all tiny.c ; wc -c a.out"
   ]
  },
  {
   "cell_type": "code",
   "execution_count": 73,
   "id": "7384c1b8-f4b8-4e10-ac73-1a4d60dfc619",
   "metadata": {},
   "outputs": [
    {
     "name": "stdout",
     "output_type": "stream",
     "text": [
      "/usr/bin/ld: warning: cannot find entry symbol _start; defaulting to 0000000000401000\n",
      "/bin/bash: line 1: 11653 Segmentation fault      (core dumped) ./a.out\n",
      "139\n",
      "8816 a.out\n"
     ]
    }
   ],
   "source": [
    "! gcc -s -static -nostartfiles tiny.c ;./a.out ; echo $? ; wc -c a.out"
   ]
  },
  {
   "cell_type": "code",
   "execution_count": 76,
   "id": "d272ea88-dbca-4f8a-820d-5003c6de4a8b",
   "metadata": {},
   "outputs": [
    {
     "name": "stdout",
     "output_type": "stream",
     "text": [
      "42\n",
      "14328 a.out\n"
     ]
    }
   ],
   "source": [
    "! gcc -s tiny.c ;./a.out ; echo $? ; wc -c a.out"
   ]
  },
  {
   "cell_type": "code",
   "execution_count": 80,
   "id": "5d4f8217-b4d7-4c03-929c-6f5eac6cd465",
   "metadata": {},
   "outputs": [
    {
     "name": "stdout",
     "output_type": "stream",
     "text": [
      "42\n",
      "14248 a.out\n"
     ]
    }
   ],
   "source": [
    "! gcc -s -Os -fdata-sections -ffunction-sections -fipa-pta -Wl,--gc-sections,-O1,--as-needed,--strip-all tiny.c ; ./a.out ; echo $? ; wc -c a.out"
   ]
  },
  {
   "cell_type": "code",
   "execution_count": 81,
   "id": "f76f9d49-5c79-46cd-8155-2d90af09adf4",
   "metadata": {},
   "outputs": [
    {
     "name": "stdout",
     "output_type": "stream",
     "text": [
      "42\n",
      "13888 a.out\n"
     ]
    }
   ],
   "source": [
    "! strip --strip-all --remove-section=.comment --remove-section=.note* a.out ; ./a.out ; echo $? ; wc -c a.out"
   ]
  },
  {
   "cell_type": "code",
   "execution_count": 82,
   "id": "8323e53a-b1bf-4c92-835c-c9776e30f9a3",
   "metadata": {
    "scrolled": true
   },
   "outputs": [
    {
     "name": "stdout",
     "output_type": "stream",
     "text": [
      "\n",
      "a.out:     file format elf64-x86-64\n",
      "a.out\n",
      "architecture: i386:x86-64, flags 0x00000150:\n",
      "HAS_SYMS, DYNAMIC, D_PAGED\n",
      "start address 0x0000000000001050\n",
      "\n",
      "Program Header:\n",
      "    PHDR off    0x0000000000000040 vaddr 0x0000000000000040 paddr 0x0000000000000040 align 2**3\n",
      "         filesz 0x00000000000002a0 memsz 0x00000000000002a0 flags r--\n",
      "  INTERP off    0x0000000000000318 vaddr 0x0000000000000318 paddr 0x0000000000000318 align 2**0\n",
      "         filesz 0x000000000000001c memsz 0x000000000000001c flags r--\n",
      "    LOAD off    0x0000000000000000 vaddr 0x0000000000000000 paddr 0x0000000000000000 align 2**12\n",
      "         filesz 0x00000000000005f0 memsz 0x00000000000005f0 flags r--\n",
      "    LOAD off    0x0000000000001000 vaddr 0x0000000000001000 paddr 0x0000000000001000 align 2**12\n",
      "         filesz 0x0000000000000149 memsz 0x0000000000000149 flags r-x\n",
      "    LOAD off    0x0000000000002000 vaddr 0x0000000000002000 paddr 0x0000000000002000 align 2**12\n",
      "         filesz 0x00000000000000b8 memsz 0x00000000000000b8 flags r--\n",
      "    LOAD off    0x0000000000002df0 vaddr 0x0000000000003df0 paddr 0x0000000000003df0 align 2**12\n",
      "         filesz 0x0000000000000218 memsz 0x0000000000000220 flags rw-\n",
      " DYNAMIC off    0x0000000000002e00 vaddr 0x0000000000003e00 paddr 0x0000000000003e00 align 2**3\n",
      "         filesz 0x00000000000001c0 memsz 0x00000000000001c0 flags rw-\n",
      "    NOTE off    0x0000000000000000 vaddr 0x0000000000000338 paddr 0x0000000000000000 align 2**3\n",
      "         filesz 0x0000000000000000 memsz 0x0000000000000000 flags r--\n",
      "    NOTE off    0x0000000000000000 vaddr 0x0000000000000368 paddr 0x0000000000000000 align 2**3\n",
      "         filesz 0x0000000000000000 memsz 0x0000000000000000 flags r--\n",
      "0x6474e553 off    0x0000000000000000 vaddr 0x0000000000000338 paddr 0x0000000000000000 align 2**3\n",
      "         filesz 0x0000000000000000 memsz 0x0000000000000000 flags r--\n",
      "EH_FRAME off    0x0000000000002000 vaddr 0x0000000000002000 paddr 0x0000000000002000 align 2**2\n",
      "         filesz 0x000000000000002c memsz 0x000000000000002c flags r--\n",
      "   STACK off    0x0000000000000000 vaddr 0x0000000000000000 paddr 0x0000000000000000 align 2**3\n",
      "         filesz 0x0000000000000000 memsz 0x0000000000000000 flags rw-\n",
      "\n",
      "Dynamic Section:\n",
      "  NEEDED               libc.so.6\n",
      "  INIT                 0x0000000000001000\n",
      "  FINI                 0x000000000000113c\n",
      "  INIT_ARRAY           0x0000000000003df0\n",
      "  INIT_ARRAYSZ         0x0000000000000008\n",
      "  FINI_ARRAY           0x0000000000003df8\n",
      "  FINI_ARRAYSZ         0x0000000000000008\n",
      "  GNU_HASH             0x00000000000003b0\n",
      "  STRTAB               0x0000000000000468\n",
      "  SYMTAB               0x00000000000003d8\n",
      "  STRSZ                0x0000000000000088\n",
      "  SYMENT               0x0000000000000018\n",
      "  DEBUG                0x0000000000000000\n",
      "  PLTGOT               0x0000000000003fc0\n",
      "  RELA                 0x0000000000000530\n",
      "  RELASZ               0x00000000000000c0\n",
      "  RELAENT              0x0000000000000018\n",
      "  FLAGS                0x0000000000000008\n",
      "  FLAGS_1              0x0000000008000001\n",
      "  VERNEED              0x0000000000000500\n",
      "  VERNEEDNUM           0x0000000000000001\n",
      "  VERSYM               0x00000000000004f0\n",
      "  RELACOUNT            0x0000000000000003\n",
      "\n",
      "Version References:\n",
      "  required from libc.so.6:\n",
      "    0x09691a75 0x00 03 GLIBC_2.2.5\n",
      "    0x069691b4 0x00 02 GLIBC_2.34\n",
      "\n",
      "Sections:\n",
      "Idx Name          Size      VMA               LMA               File off  Algn\n",
      "  0 .interp       0000001c  0000000000000318  0000000000000318  00000318  2**0\n",
      "                  CONTENTS, ALLOC, LOAD, READONLY, DATA\n",
      "  1 .gnu.hash     00000024  00000000000003b0  00000000000003b0  000003b0  2**3\n",
      "                  CONTENTS, ALLOC, LOAD, READONLY, DATA\n",
      "  2 .dynsym       00000090  00000000000003d8  00000000000003d8  000003d8  2**3\n",
      "                  CONTENTS, ALLOC, LOAD, READONLY, DATA\n",
      "  3 .dynstr       00000088  0000000000000468  0000000000000468  00000468  2**0\n",
      "                  CONTENTS, ALLOC, LOAD, READONLY, DATA\n",
      "  4 .gnu.version  0000000c  00000000000004f0  00000000000004f0  000004f0  2**1\n",
      "                  CONTENTS, ALLOC, LOAD, READONLY, DATA\n",
      "  5 .gnu.version_r 00000030  0000000000000500  0000000000000500  00000500  2**3\n",
      "                  CONTENTS, ALLOC, LOAD, READONLY, DATA\n",
      "  6 .rela.dyn     000000c0  0000000000000530  0000000000000530  00000530  2**3\n",
      "                  CONTENTS, ALLOC, LOAD, READONLY, DATA\n",
      "  7 .init         0000001b  0000000000001000  0000000000001000  00001000  2**2\n",
      "                  CONTENTS, ALLOC, LOAD, READONLY, CODE\n",
      "  8 .plt          00000010  0000000000001020  0000000000001020  00001020  2**4\n",
      "                  CONTENTS, ALLOC, LOAD, READONLY, CODE\n",
      "  9 .plt.got      00000010  0000000000001030  0000000000001030  00001030  2**4\n",
      "                  CONTENTS, ALLOC, LOAD, READONLY, CODE\n",
      " 10 .text         000000f9  0000000000001040  0000000000001040  00001040  2**4\n",
      "                  CONTENTS, ALLOC, LOAD, READONLY, CODE\n",
      " 11 .fini         0000000d  000000000000113c  000000000000113c  0000113c  2**2\n",
      "                  CONTENTS, ALLOC, LOAD, READONLY, CODE\n",
      " 12 .eh_frame_hdr 0000002c  0000000000002000  0000000000002000  00002000  2**2\n",
      "                  CONTENTS, ALLOC, LOAD, READONLY, DATA\n",
      " 13 .eh_frame     00000088  0000000000002030  0000000000002030  00002030  2**3\n",
      "                  CONTENTS, ALLOC, LOAD, READONLY, DATA\n",
      " 14 .init_array   00000008  0000000000003df0  0000000000003df0  00002df0  2**3\n",
      "                  CONTENTS, ALLOC, LOAD, DATA\n",
      " 15 .fini_array   00000008  0000000000003df8  0000000000003df8  00002df8  2**3\n",
      "                  CONTENTS, ALLOC, LOAD, DATA\n",
      " 16 .dynamic      000001c0  0000000000003e00  0000000000003e00  00002e00  2**3\n",
      "                  CONTENTS, ALLOC, LOAD, DATA\n",
      " 17 .got          00000040  0000000000003fc0  0000000000003fc0  00002fc0  2**3\n",
      "                  CONTENTS, ALLOC, LOAD, DATA\n",
      " 18 .data         00000008  0000000000004000  0000000000004000  00003000  2**3\n",
      "                  CONTENTS, ALLOC, LOAD, DATA\n",
      " 19 .bss          00000008  0000000000004008  0000000000004008  00003008  2**0\n",
      "                  ALLOC\n",
      "SYMBOL TABLE:\n",
      "no symbols\n",
      "\n",
      "\n"
     ]
    }
   ],
   "source": [
    "! objdump -x a.out"
   ]
  },
  {
   "cell_type": "code",
   "execution_count": 72,
   "id": "502fb711-a508-4d75-b459-4e17c1c75498",
   "metadata": {},
   "outputs": [
    {
     "name": "stdout",
     "output_type": "stream",
     "text": [
      "/bin/bash: line 1: 11638 Segmentation fault      (core dumped) ./a.out\n",
      "139\n"
     ]
    }
   ],
   "source": [
    "! ./a.out ; echo $?"
   ]
  },
  {
   "cell_type": "markdown",
   "id": "37dc9861-8ddb-4ab6-9ecb-8e367f9ffc0d",
   "metadata": {},
   "source": [
    "---"
   ]
  },
  {
   "cell_type": "code",
   "execution_count": 100,
   "id": "e71a07ae-b568-427b-95a3-391963659838",
   "metadata": {},
   "outputs": [
    {
     "name": "stdout",
     "output_type": "stream",
     "text": [
      "Overwriting tiny.c\n"
     ]
    }
   ],
   "source": [
    "%%writefile tiny.c\n",
    "#include <unistd.h>\n",
    "void _start (void) {\n",
    "  _exit(42);\n",
    "}"
   ]
  },
  {
   "cell_type": "code",
   "execution_count": 89,
   "id": "7fb5518d-46aa-48b8-a0ee-a5f7a329bd0a",
   "metadata": {},
   "outputs": [
    {
     "name": "stdout",
     "output_type": "stream",
     "text": [
      "42\n",
      "8904 a.out\n"
     ]
    }
   ],
   "source": [
    "! gcc -s -static -nostartfiles tiny.c ; ./a.out ; echo $? ; wc -c a.out"
   ]
  },
  {
   "cell_type": "code",
   "execution_count": 90,
   "id": "3a89d659-de74-4e47-aebb-4e5ec44f16b0",
   "metadata": {
    "scrolled": true
   },
   "outputs": [
    {
     "name": "stdout",
     "output_type": "stream",
     "text": [
      "\n",
      "a.out:     file format elf64-x86-64\n",
      "a.out\n",
      "architecture: i386:x86-64, flags 0x00000102:\n",
      "EXEC_P, D_PAGED\n",
      "start address 0x0000000000401000\n",
      "\n",
      "Program Header:\n",
      "    LOAD off    0x0000000000000000 vaddr 0x0000000000400000 paddr 0x0000000000400000 align 2**12\n",
      "         filesz 0x0000000000000244 memsz 0x0000000000000244 flags r--\n",
      "    LOAD off    0x0000000000001000 vaddr 0x0000000000401000 paddr 0x0000000000401000 align 2**12\n",
      "         filesz 0x0000000000000070 memsz 0x0000000000000070 flags r-x\n",
      "    LOAD off    0x0000000000002000 vaddr 0x0000000000402000 paddr 0x0000000000402000 align 2**12\n",
      "         filesz 0x000000000000004c memsz 0x000000000000004c flags r--\n",
      "    NOTE off    0x0000000000000200 vaddr 0x0000000000400200 paddr 0x0000000000400200 align 2**3\n",
      "         filesz 0x0000000000000020 memsz 0x0000000000000020 flags r--\n",
      "    NOTE off    0x0000000000000220 vaddr 0x0000000000400220 paddr 0x0000000000400220 align 2**2\n",
      "         filesz 0x0000000000000024 memsz 0x0000000000000024 flags r--\n",
      "     TLS off    0x000000000000204c vaddr 0x0000000000404000 paddr 0x0000000000404000 align 2**2\n",
      "         filesz 0x0000000000000000 memsz 0x0000000000000004 flags r--\n",
      "0x6474e553 off    0x0000000000000200 vaddr 0x0000000000400200 paddr 0x0000000000400200 align 2**3\n",
      "         filesz 0x0000000000000020 memsz 0x0000000000000020 flags r--\n",
      "   STACK off    0x0000000000000000 vaddr 0x0000000000000000 paddr 0x0000000000000000 align 2**4\n",
      "         filesz 0x0000000000000000 memsz 0x0000000000000000 flags rw-\n",
      "\n",
      "Sections:\n",
      "Idx Name          Size      VMA               LMA               File off  Algn\n",
      "  0 .note.gnu.property 00000020  0000000000400200  0000000000400200  00000200  2**3\n",
      "                  CONTENTS, ALLOC, LOAD, READONLY, DATA\n",
      "  1 .note.gnu.build-id 00000024  0000000000400220  0000000000400220  00000220  2**2\n",
      "                  CONTENTS, ALLOC, LOAD, READONLY, DATA\n",
      "  2 .text         00000070  0000000000401000  0000000000401000  00001000  2**4\n",
      "                  CONTENTS, ALLOC, LOAD, READONLY, CODE\n",
      "  3 .eh_frame     0000004c  0000000000402000  0000000000402000  00002000  2**3\n",
      "                  CONTENTS, ALLOC, LOAD, READONLY, DATA\n",
      "  4 .tbss         00000004  0000000000404000  0000000000404000  0000204c  2**2\n",
      "                  ALLOC, THREAD_LOCAL\n",
      "  5 .comment      0000002b  0000000000000000  0000000000000000  0000204c  2**0\n",
      "                  CONTENTS, READONLY\n",
      "SYMBOL TABLE:\n",
      "no symbols\n",
      "\n",
      "\n"
     ]
    }
   ],
   "source": [
    "! objdump -x a.out"
   ]
  },
  {
   "cell_type": "code",
   "execution_count": 91,
   "id": "664e70db-79a9-469d-b058-4a8d0082733a",
   "metadata": {},
   "outputs": [
    {
     "name": "stdout",
     "output_type": "stream",
     "text": [
      "strip: a.out: warning: empty loadable segment detected at vaddr=0x400000, is this intentional?\n",
      "42\n",
      "8624 a.out\n"
     ]
    }
   ],
   "source": [
    "! strip --strip-all --remove-section=.comment --remove-section=.note* a.out ; ./a.out ; echo $? ; wc -c a.out"
   ]
  },
  {
   "cell_type": "code",
   "execution_count": 92,
   "id": "ab91e955-0d8c-40ab-a849-717dcbf9820a",
   "metadata": {
    "scrolled": true
   },
   "outputs": [
    {
     "name": "stdout",
     "output_type": "stream",
     "text": [
      "\n",
      "a.out:     file format elf64-x86-64\n",
      "a.out\n",
      "architecture: i386:x86-64, flags 0x00000102:\n",
      "EXEC_P, D_PAGED\n",
      "start address 0x0000000000401000\n",
      "\n",
      "Program Header:\n",
      "    LOAD off    0x0000000000000000 vaddr 0x0000000000400000 paddr 0x0000000000000000 align 2**12\n",
      "         filesz 0x0000000000000200 memsz 0x0000000000000200 flags r--\n",
      "    LOAD off    0x0000000000001000 vaddr 0x0000000000401000 paddr 0x0000000000401000 align 2**12\n",
      "         filesz 0x0000000000000070 memsz 0x0000000000000070 flags r-x\n",
      "    LOAD off    0x0000000000002000 vaddr 0x0000000000402000 paddr 0x0000000000402000 align 2**12\n",
      "         filesz 0x000000000000004c memsz 0x000000000000004c flags r--\n",
      "    NOTE off    0x0000000000000000 vaddr 0x0000000000400200 paddr 0x0000000000000000 align 2**3\n",
      "         filesz 0x0000000000000000 memsz 0x0000000000000000 flags r--\n",
      "    NOTE off    0x0000000000000000 vaddr 0x0000000000400220 paddr 0x0000000000000000 align 2**3\n",
      "         filesz 0x0000000000000000 memsz 0x0000000000000000 flags r--\n",
      "     TLS off    0x000000000000204c vaddr 0x0000000000404000 paddr 0x0000000000404000 align 2**2\n",
      "         filesz 0x0000000000000000 memsz 0x0000000000000004 flags r--\n",
      "0x6474e553 off    0x0000000000000000 vaddr 0x0000000000400200 paddr 0x0000000000000000 align 2**3\n",
      "         filesz 0x0000000000000000 memsz 0x0000000000000000 flags r--\n",
      "   STACK off    0x0000000000000000 vaddr 0x0000000000000000 paddr 0x0000000000000000 align 2**3\n",
      "         filesz 0x0000000000000000 memsz 0x0000000000000000 flags rw-\n",
      "\n",
      "Sections:\n",
      "Idx Name          Size      VMA               LMA               File off  Algn\n",
      "  0 .text         00000070  0000000000401000  0000000000401000  00001000  2**4\n",
      "                  CONTENTS, ALLOC, LOAD, READONLY, CODE\n",
      "  1 .eh_frame     0000004c  0000000000402000  0000000000402000  00002000  2**3\n",
      "                  CONTENTS, ALLOC, LOAD, READONLY, DATA\n",
      "  2 .tbss         00000004  0000000000404000  0000000000404000  0000204c  2**2\n",
      "                  ALLOC, THREAD_LOCAL\n",
      "SYMBOL TABLE:\n",
      "no symbols\n",
      "\n",
      "\n"
     ]
    }
   ],
   "source": [
    "! objdump -x a.out"
   ]
  },
  {
   "cell_type": "code",
   "execution_count": 94,
   "id": "babac3ea-5a2f-4290-a106-a3a3bae7a7b9",
   "metadata": {},
   "outputs": [
    {
     "name": "stdout",
     "output_type": "stream",
     "text": [
      "42\n",
      "10696 a.out\n"
     ]
    }
   ],
   "source": [
    "! gcc -nostartfiles -Wl,-z,max-page-size=0x1000,-z,norelro tiny.c ; ./a.out ; echo $? ; wc -c a.out"
   ]
  },
  {
   "cell_type": "markdown",
   "id": "da73ba03-6787-4bc2-8fc4-ddcb1d38eead",
   "metadata": {},
   "source": [
    "---"
   ]
  },
  {
   "cell_type": "code",
   "execution_count": 191,
   "id": "efbe2d99-45c3-4af5-9b54-aa94b1d4adf7",
   "metadata": {},
   "outputs": [
    {
     "name": "stdout",
     "output_type": "stream",
     "text": [
      "Overwriting tiny.c\n"
     ]
    }
   ],
   "source": [
    "%%writefile tiny.c\n",
    "#include <unistd.h>\n",
    "#include <sys/syscall.h>\n",
    "static const char str[] = \"Hello world!\";\n",
    "void _start(){\n",
    "    syscall(SYS_write, 1, str, 12);\n",
    "    syscall(SYS_exit, 42);\n",
    "}"
   ]
  },
  {
   "cell_type": "code",
   "execution_count": 194,
   "id": "d6d412bf-2bfd-4982-8b18-494679c5b070",
   "metadata": {},
   "outputs": [
    {
     "name": "stdout",
     "output_type": "stream",
     "text": [
      "Hello world!42\n",
      "8984 a.out\n"
     ]
    }
   ],
   "source": [
    "! gcc -Os -s -static -nostartfiles -Wl,-z,max-page-size=0x1000,-z,norelro tiny.c ; ./a.out ; echo $? ; wc -c a.out"
   ]
  },
  {
   "cell_type": "code",
   "execution_count": 142,
   "id": "008da32f-7c83-4384-b39f-2ee0381a0ec6",
   "metadata": {},
   "outputs": [
    {
     "name": "stdout",
     "output_type": "stream",
     "text": [
      "Hello world!42\n",
      "8960 a.out\n"
     ]
    }
   ],
   "source": [
    "! gcc -Os -s -static -nostartfiles -fomit-frame-pointer -fno-exceptions -fno-asynchronous-unwind-tables -Wl,-z,max-page-size=0x1000,-z,norelro tiny.c ; ./a.out ; echo $? ; wc -c a.out"
   ]
  },
  {
   "cell_type": "code",
   "execution_count": 143,
   "id": "b22a09b8-7c96-489c-aa87-948d174d0f64",
   "metadata": {},
   "outputs": [
    {
     "name": "stdout",
     "output_type": "stream",
     "text": [
      "strip: a.out: warning: empty loadable segment detected at vaddr=0x400000, is this intentional?\n",
      "Hello world!42\n",
      "8560 a.out\n"
     ]
    }
   ],
   "source": [
    "! strip --strip-all --remove-section=.comment --remove-section=.note*  --remove-section=.eh_frame* a.out ; ./a.out ; echo $? ; wc -c a.out"
   ]
  },
  {
   "cell_type": "code",
   "execution_count": 136,
   "id": "4a80fd33-1d9f-40b4-b2bb-eac315447dc5",
   "metadata": {
    "scrolled": true
   },
   "outputs": [
    {
     "name": "stdout",
     "output_type": "stream",
     "text": [
      "\n",
      "a.out:     file format elf64-x86-64\n",
      "a.out\n",
      "architecture: i386:x86-64, flags 0x00000102:\n",
      "EXEC_P, D_PAGED\n",
      "start address 0x0000000000401000\n",
      "\n",
      "Program Header:\n",
      "    LOAD off    0x0000000000000000 vaddr 0x0000000000400000 paddr 0x0000000000000000 align 2**12\n",
      "         filesz 0x0000000000000200 memsz 0x0000000000000200 flags r--\n",
      "    LOAD off    0x0000000000001000 vaddr 0x0000000000401000 paddr 0x0000000000401000 align 2**12\n",
      "         filesz 0x0000000000000087 memsz 0x0000000000000087 flags r-x\n",
      "    LOAD off    0x0000000000002000 vaddr 0x0000000000402000 paddr 0x0000000000402000 align 2**12\n",
      "         filesz 0x000000000000000d memsz 0x000000000000000d flags r--\n",
      "    NOTE off    0x0000000000000000 vaddr 0x0000000000400200 paddr 0x0000000000000000 align 2**3\n",
      "         filesz 0x0000000000000000 memsz 0x0000000000000000 flags r--\n",
      "    NOTE off    0x0000000000000000 vaddr 0x0000000000400220 paddr 0x0000000000000000 align 2**3\n",
      "         filesz 0x0000000000000000 memsz 0x0000000000000000 flags r--\n",
      "     TLS off    0x0000000000002010 vaddr 0x0000000000404000 paddr 0x0000000000404000 align 2**2\n",
      "         filesz 0x0000000000000000 memsz 0x0000000000000004 flags r--\n",
      "0x6474e553 off    0x0000000000000000 vaddr 0x0000000000400200 paddr 0x0000000000000000 align 2**3\n",
      "         filesz 0x0000000000000000 memsz 0x0000000000000000 flags r--\n",
      "   STACK off    0x0000000000000000 vaddr 0x0000000000000000 paddr 0x0000000000000000 align 2**3\n",
      "         filesz 0x0000000000000000 memsz 0x0000000000000000 flags rw-\n",
      "\n",
      "Sections:\n",
      "Idx Name          Size      VMA               LMA               File off  Algn\n",
      "  0 .text         00000087  0000000000401000  0000000000401000  00001000  2**4\n",
      "                  CONTENTS, ALLOC, LOAD, READONLY, CODE\n",
      "  1 .rodata       0000000d  0000000000402000  0000000000402000  00002000  2**3\n",
      "                  CONTENTS, ALLOC, LOAD, READONLY, DATA\n",
      "  2 .tbss         00000004  0000000000404000  0000000000404000  00002010  2**2\n",
      "                  ALLOC, THREAD_LOCAL\n",
      "SYMBOL TABLE:\n",
      "no symbols\n",
      "\n",
      "\n"
     ]
    }
   ],
   "source": [
    "! objdump -x a.out"
   ]
  },
  {
   "cell_type": "code",
   "execution_count": 273,
   "id": "febed6ef-c4a1-4453-a39a-3f2bd727ede0",
   "metadata": {},
   "outputs": [
    {
     "name": "stdout",
     "output_type": "stream",
     "text": [
      "Hello world!42\n",
      "8960 a.out\n"
     ]
    }
   ],
   "source": [
    "%%bash\n",
    "gcc -Os -s -static -nostartfiles \\\n",
    "-fomit-frame-pointer -fno-exceptions \\\n",
    "-fno-asynchronous-unwind-tables -fno-unwind-tables \\\n",
    "-Wl,-z,norelro \\\n",
    "-Wl,--gc-sections \\\n",
    "tiny.c ; ./a.out ; echo $? ; wc -c a.out"
   ]
  },
  {
   "cell_type": "code",
   "execution_count": 274,
   "id": "9ed000da-bdd0-4cc8-8e28-76058ca8ed1a",
   "metadata": {},
   "outputs": [
    {
     "name": "stdout",
     "output_type": "stream",
     "text": [
      "strip: a.out: warning: empty loadable segment detected at vaddr=0x400000, is this intentional?\n",
      "Hello world!42\n",
      "8560 a.out\n"
     ]
    }
   ],
   "source": [
    "! strip --strip-unneeded --strip-all \\\n",
    "--remove-section=.comment --remove-section=.note* --remove-section=.eh_frame* \\\n",
    "a.out ; ./a.out ; echo $? ; wc -c a.out"
   ]
  },
  {
   "cell_type": "code",
   "execution_count": 278,
   "id": "bfe9a958-a419-4ec0-b4f5-3a71f65338f2",
   "metadata": {},
   "outputs": [
    {
     "name": "stdout",
     "output_type": "stream",
     "text": [
      "\n",
      "a.out:     file format elf64-x86-64\n",
      "\n",
      "Contents of section .text:\n",
      " 401000 f30f1efa 50488d15 f40f0000 be010000  ....PH..........\n",
      " 401010 0031c0bf 01000000 b90c0000 00e81e00  .1..............\n",
      " 401020 0000be2a 000000bf 3c000000 5a31c0e9  ...*....<...Z1..\n",
      " 401030 0c000000 662e0f1f 84000000 00006690  ....f.........f.\n",
      " 401040 f30f1efa 4889f848 89f74889 d64889ca  ....H..H..H..H..\n",
      " 401050 4d89c24d 89c84c8b 4c24080f 05483d01  M..M..L.L$...H=.\n",
      " 401060 f0ffff73 01c348c7 c1fcffff fff7d864  ...s..H........d\n",
      " 401070 89014883 c8ffc3                      ..H....         \n",
      "Contents of section .rodata:\n",
      " 402000 48656c6c 6f20776f 726c6421 00        Hello world!.   \n"
     ]
    }
   ],
   "source": [
    "! objdump -s a.out"
   ]
  },
  {
   "cell_type": "code",
   "execution_count": 277,
   "id": "fbc7b8ef-6b87-4d31-87b0-1a7bf34b928a",
   "metadata": {},
   "outputs": [
    {
     "name": "stdout",
     "output_type": "stream",
     "text": [
      "\n",
      "a.out:     file format elf64-x86-64\n",
      "\n",
      "\n",
      "Disassembly of section .text:\n",
      "\n",
      "0000000000401000 <.text>:\n",
      "  401000:\tf3 0f 1e fa          \tendbr64 \n",
      "  401004:\t50                   \tpush   %rax\n",
      "  401005:\t48 8d 15 f4 0f 00 00 \tlea    0xff4(%rip),%rdx        # 0x402000\n",
      "  40100c:\tbe 01 00 00 00       \tmov    $0x1,%esi\n",
      "  401011:\t31 c0                \txor    %eax,%eax\n",
      "  401013:\tbf 01 00 00 00       \tmov    $0x1,%edi\n",
      "  401018:\tb9 0c 00 00 00       \tmov    $0xc,%ecx\n",
      "  40101d:\te8 1e 00 00 00       \tcall   0x401040\n",
      "  401022:\tbe 2a 00 00 00       \tmov    $0x2a,%esi\n",
      "  401027:\tbf 3c 00 00 00       \tmov    $0x3c,%edi\n",
      "  40102c:\t5a                   \tpop    %rdx\n",
      "  40102d:\t31 c0                \txor    %eax,%eax\n",
      "  40102f:\te9 0c 00 00 00       \tjmp    0x401040\n",
      "  401034:\t66 2e 0f 1f 84 00 00 \tcs nopw 0x0(%rax,%rax,1)\n",
      "  40103b:\t00 00 00 \n",
      "  40103e:\t66 90                \txchg   %ax,%ax\n",
      "  401040:\tf3 0f 1e fa          \tendbr64 \n",
      "  401044:\t48 89 f8             \tmov    %rdi,%rax\n",
      "  401047:\t48 89 f7             \tmov    %rsi,%rdi\n",
      "  40104a:\t48 89 d6             \tmov    %rdx,%rsi\n",
      "  40104d:\t48 89 ca             \tmov    %rcx,%rdx\n",
      "  401050:\t4d 89 c2             \tmov    %r8,%r10\n",
      "  401053:\t4d 89 c8             \tmov    %r9,%r8\n",
      "  401056:\t4c 8b 4c 24 08       \tmov    0x8(%rsp),%r9\n",
      "  40105b:\t0f 05                \tsyscall \n",
      "  40105d:\t48 3d 01 f0 ff ff    \tcmp    $0xfffffffffffff001,%rax\n",
      "  401063:\t73 01                \tjae    0x401066\n",
      "  401065:\tc3                   \tret    \n",
      "  401066:\t48 c7 c1 fc ff ff ff \tmov    $0xfffffffffffffffc,%rcx\n",
      "  40106d:\tf7 d8                \tneg    %eax\n",
      "  40106f:\t64 89 01             \tmov    %eax,%fs:(%rcx)\n",
      "  401072:\t48 83 c8 ff          \tor     $0xffffffffffffffff,%rax\n",
      "  401076:\tc3                   \tret    \n"
     ]
    }
   ],
   "source": [
    "! objdump -d a.out"
   ]
  },
  {
   "cell_type": "markdown",
   "id": "827041ea-a780-4856-b670-4ed8faa92737",
   "metadata": {},
   "source": [
    "---"
   ]
  },
  {
   "cell_type": "code",
   "execution_count": 251,
   "id": "a094f034-3c50-4c13-ac10-ef21a5589c92",
   "metadata": {},
   "outputs": [
    {
     "name": "stdout",
     "output_type": "stream",
     "text": [
      "Overwriting hello.f95\n"
     ]
    }
   ],
   "source": [
    "%%writefile hello.f95\n",
    "program hello\n",
    "  print*, 'Hello, World!'\n",
    "  call exit(42)\n",
    "end"
   ]
  },
  {
   "cell_type": "code",
   "execution_count": 252,
   "id": "28e0accf-a558-4b91-aa82-026f8ea56606",
   "metadata": {},
   "outputs": [
    {
     "name": "stdout",
     "output_type": "stream",
     "text": [
      " Hello, World!\n",
      "42\n",
      "16264 a.out\n"
     ]
    }
   ],
   "source": [
    "! gfortran hello.f95 ; ./a.out ; echo $? ; wc -c a.out"
   ]
  },
  {
   "cell_type": "code",
   "execution_count": 279,
   "id": "54292e15-5af1-4f43-b4b3-3e21820279bd",
   "metadata": {},
   "outputs": [
    {
     "name": "stderr",
     "output_type": "stream",
     "text": [
      "/usr/bin/ld: warning: cannot find entry symbol _start; defaulting to 0000000000001070\n"
     ]
    },
    {
     "name": "stdout",
     "output_type": "stream",
     "text": [
      " Hello, World!\n",
      "42\n",
      "9976 a.out\n"
     ]
    }
   ],
   "source": [
    "%%bash\n",
    "gfortran -Os -s -nostartfiles -fomit-frame-pointer -fno-exceptions \\\n",
    "-fno-asynchronous-unwind-tables -fno-unwind-tables \\\n",
    "-Wl,-z,max-page-size=0x1000,-z,norelro hello.f95\n",
    "./a.out ; echo $? ; wc -c a.out"
   ]
  },
  {
   "cell_type": "code",
   "execution_count": 280,
   "id": "495ea36f-bf40-41c3-b577-81d76e8f59e1",
   "metadata": {},
   "outputs": [
    {
     "name": "stderr",
     "output_type": "stream",
     "text": [
      "./a.out: error while loading shared libraries: ./a.out: unsupported version 0 of Verneed record\n"
     ]
    },
    {
     "name": "stdout",
     "output_type": "stream",
     "text": [
      "127\n",
      "9480 a.out\n"
     ]
    }
   ],
   "source": [
    "%%bash\n",
    "strip --strip-all \\\n",
    "--remove-section=.comment \\\n",
    "--remove-section=.note* \\\n",
    "--remove-section=.eh_frame* \\\n",
    "--remove-section=.gnu.version \\\n",
    "--remove-section=.gnu.version_r \\\n",
    "--remove-section=.gnu.hash \\\n",
    "a.out\n",
    "./a.out ; echo $? ; wc -c a.out"
   ]
  },
  {
   "cell_type": "code",
   "execution_count": 281,
   "id": "ad0ccfb9-a687-4ef8-aca7-d4218122581f",
   "metadata": {
    "scrolled": true
   },
   "outputs": [
    {
     "name": "stdout",
     "output_type": "stream",
     "text": [
      "\n",
      "a.out:     file format elf64-x86-64\n",
      "a.out\n",
      "architecture: i386:x86-64, flags 0x00000150:\n",
      "HAS_SYMS, DYNAMIC, D_PAGED\n",
      "start address 0x0000000000001070\n",
      "\n",
      "Program Header:\n",
      "    PHDR off    0x0000000000000040 vaddr 0x0000000000000040 paddr 0x0000000000000040 align 2**3\n",
      "         filesz 0x00000000000001f8 memsz 0x00000000000001f8 flags r--\n",
      "  INTERP off    0x0000000000000238 vaddr 0x0000000000000238 paddr 0x0000000000000238 align 2**0\n",
      "         filesz 0x000000000000001c memsz 0x000000000000001c flags r--\n",
      "    LOAD off    0x0000000000000000 vaddr 0x0000000000000000 paddr 0x0000000000000000 align 2**12\n",
      "         filesz 0x00000000000004a8 memsz 0x00000000000004a8 flags r--\n",
      "    LOAD off    0x0000000000001000 vaddr 0x0000000000001000 paddr 0x0000000000001000 align 2**12\n",
      "         filesz 0x00000000000000ea memsz 0x00000000000000ea flags r-x\n",
      "    LOAD off    0x0000000000002000 vaddr 0x0000000000002000 paddr 0x0000000000002000 align 2**12\n",
      "         filesz 0x000000000000004c memsz 0x000000000000004c flags r--\n",
      "    LOAD off    0x0000000000002050 vaddr 0x0000000000003050 paddr 0x0000000000003050 align 2**12\n",
      "         filesz 0x00000000000001a8 memsz 0x00000000000001a8 flags rw-\n",
      " DYNAMIC off    0x0000000000002050 vaddr 0x0000000000003050 paddr 0x0000000000003050 align 2**3\n",
      "         filesz 0x0000000000000160 memsz 0x0000000000000160 flags rw-\n",
      "    NOTE off    0x0000000000000000 vaddr 0x0000000000000254 paddr 0x0000000000000000 align 2**3\n",
      "         filesz 0x0000000000000000 memsz 0x0000000000000000 flags r--\n",
      "   STACK off    0x0000000000000000 vaddr 0x0000000000000000 paddr 0x0000000000000000 align 2**3\n",
      "         filesz 0x0000000000000000 memsz 0x0000000000000000 flags rw-\n",
      "\n",
      "Dynamic Section:\n",
      "  NEEDED               libgfortran.so.5\n",
      "  GNU_HASH             0x0000000000000278\n",
      "  STRTAB               0x0000000000000340\n",
      "  SYMTAB               0x0000000000000298\n",
      "  STRSZ                0x00000000000000a6\n",
      "  SYMENT               0x0000000000000018\n",
      "  DEBUG                0x0000000000000000\n",
      "  PLTGOT               0x00000000000031b0\n",
      "  PLTRELSZ             0x0000000000000090\n",
      "  PLTREL               0x0000000000000007\n",
      "  JMPREL               0x0000000000000418\n",
      "  FLAGS                0x0000000000000008\n",
      "  FLAGS_1              0x0000000008000001\n",
      "  VERNEED              0x00000000000003f8\n",
      "  VERNEEDNUM           0x0000000000000001\n",
      "  VERSYM               0x00000000000003e6\n",
      "\n",
      "Sections:\n",
      "Idx Name          Size      VMA               LMA               File off  Algn\n",
      "  0 .interp       0000001c  0000000000000238  0000000000000238  00000238  2**0\n",
      "                  CONTENTS, ALLOC, LOAD, READONLY, DATA\n",
      "  1 .dynsym       000000a8  0000000000000298  0000000000000298  00000298  2**3\n",
      "                  CONTENTS, ALLOC, LOAD, READONLY, DATA\n",
      "  2 .dynstr       000000a6  0000000000000340  0000000000000340  00000340  2**0\n",
      "                  CONTENTS, ALLOC, LOAD, READONLY, DATA\n",
      "  3 .rela.plt     00000090  0000000000000418  0000000000000418  00000418  2**3\n",
      "                  CONTENTS, ALLOC, LOAD, READONLY, DATA\n",
      "  4 .plt          00000070  0000000000001000  0000000000001000  00001000  2**4\n",
      "                  CONTENTS, ALLOC, LOAD, READONLY, CODE\n",
      "  5 .text         0000007a  0000000000001070  0000000000001070  00001070  2**0\n",
      "                  CONTENTS, ALLOC, LOAD, READONLY, CODE\n",
      "  6 .rodata       0000004c  0000000000002000  0000000000002000  00002000  2**4\n",
      "                  CONTENTS, ALLOC, LOAD, READONLY, DATA\n",
      "  7 .dynamic      00000160  0000000000003050  0000000000003050  00002050  2**3\n",
      "                  CONTENTS, ALLOC, LOAD, DATA\n",
      "  8 .got          00000048  00000000000031b0  00000000000031b0  000021b0  2**3\n",
      "                  CONTENTS, ALLOC, LOAD, DATA\n",
      "SYMBOL TABLE:\n",
      "no symbols\n",
      "\n",
      "\n"
     ]
    }
   ],
   "source": [
    "! objdump -x a.out"
   ]
  },
  {
   "cell_type": "code",
   "execution_count": 242,
   "id": "6dd86d02-5cf3-41ce-9751-db7748f68b4c",
   "metadata": {
    "scrolled": true
   },
   "outputs": [
    {
     "name": "stdout",
     "output_type": "stream",
     "text": [
      "There are 12 section headers, starting at offset 0x2250:\n",
      "\n",
      "Section Headers:\n",
      "  [Nr] Name              Type             Address           Offset\n",
      "       Size              EntSize          Flags  Link  Info  Align\n",
      "  [ 0]                   NULL             0000000000000000  00000000\n",
      "       0000000000000000  0000000000000000           0     0     0\n",
      "  [ 1] .interp           PROGBITS         0000000000000238  00000238\n",
      "       000000000000001c  0000000000000000   A       0     0     1\n",
      "  [ 2] .gnu.hash         GNU_HASH         0000000000000278  00000278\n",
      "       000000000000001c  0000000000000000   A       3     0     8\n",
      "  [ 3] .dynsym           DYNSYM           0000000000000298  00000298\n",
      "       00000000000000a8  0000000000000018   A       4     1     8\n",
      "  [ 4] .dynstr           STRTAB           0000000000000340  00000340\n",
      "       00000000000000a6  0000000000000000   A       0     0     1\n",
      "  [ 5] .rela.plt         RELA             0000000000000418  00000418\n",
      "       0000000000000090  0000000000000018  AI       3    10     8\n",
      "  [ 6] .plt              PROGBITS         0000000000001000  00001000\n",
      "       0000000000000070  0000000000000010  AX       0     0     16\n",
      "  [ 7] .text             PROGBITS         0000000000001070  00001070\n",
      "       000000000000007a  0000000000000000  AX       0     0     1\n",
      "  [ 8] .rodata           PROGBITS         0000000000002000  00002000\n",
      "       000000000000004c  0000000000000000   A       0     0     16\n",
      "  [ 9] .dynamic          DYNAMIC          0000000000003050  00002050\n",
      "       0000000000000160  0000000000000010  WA       4     0     8\n",
      "  [10] .got              PROGBITS         00000000000031b0  000021b0\n",
      "       0000000000000048  0000000000000008  WA       0     0     8\n",
      "  [11] .shstrtab         STRTAB           0000000000000000  000021f8\n",
      "       0000000000000053  0000000000000000           0     0     1\n",
      "Key to Flags:\n",
      "  W (write), A (alloc), X (execute), M (merge), S (strings), I (info),\n",
      "  L (link order), O (extra OS processing required), G (group), T (TLS),\n",
      "  C (compressed), x (unknown), o (OS specific), E (exclude),\n",
      "  D (mbind), l (large), p (processor specific)\n"
     ]
    }
   ],
   "source": [
    "! readelf -S a.out"
   ]
  },
  {
   "cell_type": "code",
   "execution_count": 268,
   "id": "73caa095-d2ef-4794-b772-56a7b9cad32c",
   "metadata": {},
   "outputs": [
    {
     "name": "stdout",
     "output_type": "stream",
     "text": [
      " Hello, World!\n",
      "42\n",
      "11160 a.out\n"
     ]
    }
   ],
   "source": [
    "%%bash\n",
    "gfortran -Os -s \\\n",
    "-fno-asynchronous-unwind-tables \\\n",
    "-Wl,-z,norelro \\\n",
    "-Wl,--gc-sections \\\n",
    "hello.f95\n",
    "./a.out ; echo $? ; wc -c a.out"
   ]
  },
  {
   "cell_type": "code",
   "execution_count": 270,
   "id": "06e4d24e-f332-4999-9827-7da5caa235d6",
   "metadata": {},
   "outputs": [
    {
     "name": "stdout",
     "output_type": "stream",
     "text": [
      " Hello, World!\n",
      "42\n",
      "10568 a.out\n"
     ]
    }
   ],
   "source": [
    "%%bash\n",
    "strip --strip-unneeded --strip-all \\\n",
    "--remove-section=.comment \\\n",
    "--remove-section=.note* \\\n",
    "--remove-section=.eh_frame* \\\n",
    "--remove-section=.gnu.version \\\n",
    "a.out\n",
    "./a.out ; echo $? ; wc -c a.out"
   ]
  },
  {
   "cell_type": "code",
   "execution_count": 271,
   "id": "a09dae9c-2a21-4cd0-b178-73060b065c41",
   "metadata": {
    "scrolled": true
   },
   "outputs": [
    {
     "name": "stdout",
     "output_type": "stream",
     "text": [
      "\n",
      "a.out:     file format elf64-x86-64\n",
      "\n",
      "Contents of section .interp:\n",
      " 02e0 2f6c6962 36342f6c 642d6c69 6e75782d  /lib64/ld-linux-\n",
      " 02f0 7838362d 36342e73 6f2e3200           x86-64.so.2.    \n",
      "Contents of section .gnu.hash:\n",
      " 0368 02000000 0b000000 01000000 06000000  ................\n",
      " 0378 00008100 00000000 0b000000 00000000  ................\n",
      " 0388 d165ce6d                             .e.m            \n",
      "Contents of section .dynsym:\n",
      " 0390 00000000 00000000 00000000 00000000  ................\n",
      " 03a0 00000000 00000000 01000000 20000000  ............ ...\n",
      " 03b0 00000000 00000000 00000000 00000000  ................\n",
      " 03c0 10000000 20000000 00000000 00000000  .... ...........\n",
      " 03d0 00000000 00000000 2c000000 20000000  ........,... ...\n",
      " 03e0 00000000 00000000 00000000 00000000  ................\n",
      " 03f0 70000000 12000000 00000000 00000000  p...............\n",
      " 0400 00000000 00000000 58000000 12000000  ........X.......\n",
      " 0410 00000000 00000000 00000000 00000000  ................\n",
      " 0420 93000000 12000000 00000000 00000000  ................\n",
      " 0430 00000000 00000000 46000000 12000000  ........F.......\n",
      " 0440 00000000 00000000 00000000 00000000  ................\n",
      " 0450 bc000000 12000000 00000000 00000000  ................\n",
      " 0460 00000000 00000000 a9000000 12000000  ................\n",
      " 0470 00000000 00000000 00000000 00000000  ................\n",
      " 0480 de000000 12000000 00000000 00000000  ................\n",
      " 0490 00000000 00000000 cf000000 22000000  ............\"...\n",
      " 04a0 00000000 00000000 00000000 00000000  ................\n",
      "Contents of section .dynstr:\n",
      " 04b0 005f5f67 6d6f6e5f 73746172 745f5f00  .__gmon_start__.\n",
      " 04c0 5f49544d 5f646572 65676973 74657254  _ITM_deregisterT\n",
      " 04d0 4d436c6f 6e655461 626c6500 5f49544d  MCloneTable._ITM\n",
      " 04e0 5f726567 69737465 72544d43 6c6f6e65  _registerTMClone\n",
      " 04f0 5461626c 65005f67 666f7274 72616e5f  Table._gfortran_\n",
      " 0500 65786974 5f693400 5f67666f 72747261  exit_i4._gfortra\n",
      " 0510 6e5f7374 5f777269 74655f64 6f6e6500  n_st_write_done.\n",
      " 0520 5f67666f 72747261 6e5f7472 616e7366  _gfortran_transf\n",
      " 0530 65725f63 68617261 63746572 5f777269  er_character_wri\n",
      " 0540 7465005f 67666f72 7472616e 5f736574  te._gfortran_set\n",
      " 0550 5f6f7074 696f6e73 005f6766 6f727472  _options._gfortr\n",
      " 0560 616e5f73 745f7772 69746500 5f67666f  an_st_write._gfo\n",
      " 0570 72747261 6e5f7365 745f6172 6773005f  rtran_set_args._\n",
      " 0580 5f637861 5f66696e 616c697a 65005f5f  _cxa_finalize.__\n",
      " 0590 6c696263 5f737461 72745f6d 61696e00  libc_start_main.\n",
      " 05a0 6c696267 666f7274 72616e2e 736f2e35  libgfortran.so.5\n",
      " 05b0 006c6962 632e736f 2e360047 4c494243  .libc.so.6.GLIBC\n",
      " 05c0 5f322e33 3400474c 4942435f 322e322e  _2.34.GLIBC_2.2.\n",
      " 05d0 35004746 4f525452 414e5f38 00        5.GFORTRAN_8.   \n",
      "Contents of section .gnu.version_r:\n",
      " 05f8 01000200 01010000 10000000 30000000  ............0...\n",
      " 0608 b4919606 00000400 0b010000 10000000  ................\n",
      " 0618 751a6909 00000300 16010000 00000000  u.i.............\n",
      " 0628 01000100 f0000000 10000000 00000000  ................\n",
      " 0638 68f99207 00000200 22010000 00000000  h.......\".......\n",
      "Contents of section .rela.dyn:\n",
      " 0648 e0300000 00000000 08000000 00000000  .0..............\n",
      " 0658 a0110000 00000000 e8300000 00000000  .........0......\n",
      " 0668 08000000 00000000 60110000 00000000  ........`.......\n",
      " 0678 60330000 00000000 08000000 00000000  `3..............\n",
      " 0688 60330000 00000000 38330000 00000000  `3......83......\n",
      " 0698 06000000 01000000 00000000 00000000  ................\n",
      " 06a8 40330000 00000000 06000000 02000000  @3..............\n",
      " 06b8 00000000 00000000 48330000 00000000  ........H3......\n",
      " 06c8 06000000 03000000 00000000 00000000  ................\n",
      " 06d8 50330000 00000000 06000000 0b000000  P3..............\n",
      " 06e8 00000000 00000000 58330000 00000000  ........X3......\n",
      " 06f8 06000000 0a000000 00000000 00000000  ................\n",
      "Contents of section .rela.plt:\n",
      " 0708 08330000 00000000 07000000 04000000  .3..............\n",
      " 0718 00000000 00000000 10330000 00000000  .........3......\n",
      " 0728 07000000 05000000 00000000 00000000  ................\n",
      " 0738 18330000 00000000 07000000 06000000  .3..............\n",
      " 0748 00000000 00000000 20330000 00000000  ........ 3......\n",
      " 0758 07000000 07000000 00000000 00000000  ................\n",
      " 0768 28330000 00000000 07000000 08000000  (3..............\n",
      " 0778 00000000 00000000 30330000 00000000  ........03......\n",
      " 0788 07000000 09000000 00000000 00000000  ................\n",
      "Contents of section .init:\n",
      " 1000 f30f1efa 4883ec08 488b0529 23000048  ....H...H..)#..H\n",
      " 1010 85c07402 ffd04883 c408c3             ..t...H....     \n",
      "Contents of section .plt:\n",
      " 1020 ff35d222 0000ff25 d4220000 0f1f4000  .5.\"...%.\"....@.\n",
      " 1030 ff25d222 00006800 000000e9 e0ffffff  .%.\"..h.........\n",
      " 1040 ff25ca22 00006801 000000e9 d0ffffff  .%.\"..h.........\n",
      " 1050 ff25c222 00006802 000000e9 c0ffffff  .%.\"..h.........\n",
      " 1060 ff25ba22 00006803 000000e9 b0ffffff  .%.\"..h.........\n",
      " 1070 ff25b222 00006804 000000e9 a0ffffff  .%.\"..h.........\n",
      " 1080 ff25aa22 00006805 000000e9 90ffffff  .%.\"..h.........\n",
      "Contents of section .plt.got:\n",
      " 1090 ff25ba22 00006690                    .%.\"..f.        \n",
      "Contents of section .text:\n",
      " 10a0 50e8caff ffff488d 35830f00 00bf0700  P.....H.5.......\n",
      " 10b0 0000e899 ffffffe8 ed000000 0f1f4000  ..............@.\n",
      " 10c0 f30f1efa 31ed4989 d15e4889 e24883e4  ....1.I..^H..H..\n",
      " 10d0 f0505445 31c031c9 488d3dc1 ffffffff  .PTE1.1.H.=.....\n",
      " 10e0 15732200 00f4662e 0f1f8400 00000000  .s\"...f.........\n",
      " 10f0 488d3d71 22000048 8d056a22 00004839  H.=q\"..H..j\"..H9\n",
      " 1100 f8741548 8b053622 00004885 c07409ff  .t.H..6\"..H..t..\n",
      " 1110 e00f1f80 00000000 c30f1f80 00000000  ................\n",
      " 1120 488d3d41 22000048 8d353a22 00004829  H.=A\"..H.5:\"..H)\n",
      " 1130 fe4889f0 48c1ee3f 48c1f803 4801c648  .H..H..?H...H..H\n",
      " 1140 d1fe7414 488b05fd 21000048 85c07408  ..t.H...!..H..t.\n",
      " 1150 ffe0660f 1f440000 c30f1f80 00000000  ..f..D..........\n",
      " 1160 f30f1efa 803dfd21 00000075 2b554883  .....=.!...u+UH.\n",
      " 1170 3dda2100 00004889 e5740c48 8b3dde21  =.!...H..t.H.=.!\n",
      " 1180 0000e809 ffffffe8 64ffffff c605d521  ........d......!\n",
      " 1190 0000015d c30f1f00 c30f1f80 00000000  ...]............\n",
      " 11a0 f30f1efa e977ffff ff55488d 054f0e00  .....w...UH..O..\n",
      " 11b0 004881ec 10020000 4889e548 89442408  .H......H..H.D$.\n",
      " 11c0 b8010000 0c48c1e0 074889ef c7442410  .....H...H...D$.\n",
      " 11d0 02000000 48890424 e8a3feff ffba0d00  ....H..$........\n",
      " 11e0 0000488d 35210e00 004889ef e83ffeff  ..H.5!...H...?..\n",
      " 11f0 ff4889ef e847feff ff488d3d 200e0000  .H...G...H.= ...\n",
      " 1200 31c0e859 feffff                      1..Y...         \n",
      "Contents of section .fini:\n",
      " 1208 f30f1efa 4883ec08 4883c408 c3        ....H...H....   \n",
      "Contents of section .rodata:\n",
      " 2000 68656c6c 6f2e6639 35004865 6c6c6f2c  hello.f95.Hello,\n",
      " 2010 20576f72 6c642100 00000000 00000000   World!.........\n",
      " 2020 2a000000 00000000 00000000 00000000  *...............\n",
      " 2030 44080000 ff0f0000 00000000 01000000  D...............\n",
      " 2040 01000000 00000000 1f000000           ............    \n",
      "Contents of section .init_array:\n",
      " 30e0 a0110000 00000000                    ........        \n",
      "Contents of section .fini_array:\n",
      " 30e8 60110000 00000000                    `.......        \n",
      "Contents of section .dynamic:\n",
      " 30f0 01000000 00000000 f0000000 00000000  ................\n",
      " 3100 01000000 00000000 01010000 00000000  ................\n",
      " 3110 0c000000 00000000 00100000 00000000  ................\n",
      " 3120 0d000000 00000000 08120000 00000000  ................\n",
      " 3130 19000000 00000000 e0300000 00000000  .........0......\n",
      " 3140 1b000000 00000000 08000000 00000000  ................\n",
      " 3150 1a000000 00000000 e8300000 00000000  .........0......\n",
      " 3160 1c000000 00000000 08000000 00000000  ................\n",
      " 3170 f5feff6f 00000000 68030000 00000000  ...o....h.......\n",
      " 3180 05000000 00000000 b0040000 00000000  ................\n",
      " 3190 06000000 00000000 90030000 00000000  ................\n",
      " 31a0 0a000000 00000000 2d010000 00000000  ........-.......\n",
      " 31b0 0b000000 00000000 18000000 00000000  ................\n",
      " 31c0 15000000 00000000 00000000 00000000  ................\n",
      " 31d0 03000000 00000000 f0320000 00000000  .........2......\n",
      " 31e0 02000000 00000000 90000000 00000000  ................\n",
      " 31f0 14000000 00000000 07000000 00000000  ................\n",
      " 3200 17000000 00000000 08070000 00000000  ................\n",
      " 3210 07000000 00000000 48060000 00000000  ........H.......\n",
      " 3220 08000000 00000000 c0000000 00000000  ................\n",
      " 3230 09000000 00000000 18000000 00000000  ................\n",
      " 3240 1e000000 00000000 08000000 00000000  ................\n",
      " 3250 fbffff6f 00000000 01000008 00000000  ...o............\n",
      " 3260 feffff6f 00000000 f8050000 00000000  ...o............\n",
      " 3270 ffffff6f 00000000 02000000 00000000  ...o............\n",
      " 3280 f0ffff6f 00000000 de050000 00000000  ...o............\n",
      " 3290 f9ffff6f 00000000 03000000 00000000  ...o............\n",
      " 32a0 00000000 00000000 00000000 00000000  ................\n",
      " 32b0 00000000 00000000 00000000 00000000  ................\n",
      " 32c0 00000000 00000000 00000000 00000000  ................\n",
      " 32d0 00000000 00000000 00000000 00000000  ................\n",
      " 32e0 00000000 00000000 00000000 00000000  ................\n",
      "Contents of section .got:\n",
      " 32f0 f0300000 00000000 00000000 00000000  .0..............\n",
      " 3300 00000000 00000000 36100000 00000000  ........6.......\n",
      " 3310 46100000 00000000 56100000 00000000  F.......V.......\n",
      " 3320 66100000 00000000 76100000 00000000  f.......v.......\n",
      " 3330 86100000 00000000 00000000 00000000  ................\n",
      " 3340 00000000 00000000 00000000 00000000  ................\n",
      " 3350 00000000 00000000 00000000 00000000  ................\n",
      "Contents of section .data:\n",
      " 3360 60330000 00000000                    `3......        \n"
     ]
    }
   ],
   "source": [
    "! objdump -s a.out"
   ]
  },
  {
   "cell_type": "code",
   "execution_count": 267,
   "id": "a09a34a6-5029-47f8-a224-7e029f0bbcc8",
   "metadata": {},
   "outputs": [
    {
     "name": "stdout",
     "output_type": "stream",
     "text": [
      "\n",
      "String dump of section '.dynstr':\n",
      "  [     1]  __gmon_start__\n",
      "  [    10]  _ITM_deregisterTMCloneTable\n",
      "  [    2c]  _ITM_registerTMCloneTable\n",
      "  [    46]  _gfortran_exit_i4\n",
      "  [    58]  _gfortran_st_write_done\n",
      "  [    70]  _gfortran_transfer_character_write\n",
      "  [    93]  _gfortran_set_options\n",
      "  [    a9]  _gfortran_st_write\n",
      "  [    bc]  _gfortran_set_args\n",
      "  [    cf]  __cxa_finalize\n",
      "  [    de]  __libc_start_main\n",
      "  [    f0]  libgfortran.so.5\n",
      "  [   101]  libc.so.6\n",
      "  [   10b]  GLIBC_2.34\n",
      "  [   116]  GLIBC_2.2.5\n",
      "  [   122]  GFORTRAN_8\n",
      "\n"
     ]
    }
   ],
   "source": [
    "! readelf -p .dynstr a.out"
   ]
  },
  {
   "cell_type": "markdown",
   "id": "33a2ac1d-5854-42fb-a097-a1c90a4f86dd",
   "metadata": {},
   "source": [
    "---"
   ]
  },
  {
   "cell_type": "code",
   "execution_count": 284,
   "id": "e300ec27-cd07-4905-9c1d-46fe9de6eb8f",
   "metadata": {},
   "outputs": [
    {
     "name": "stdout",
     "output_type": "stream",
     "text": [
      "Overwriting tiny.c\n"
     ]
    }
   ],
   "source": [
    "%%writefile tiny.c\n",
    "#include <stdio.h>\n",
    "int main(void) {\n",
    "    printf(\"Hello, world!\");\n",
    "    return 42;\n",
    "}"
   ]
  },
  {
   "cell_type": "code",
   "execution_count": 285,
   "id": "a015a816-f044-40c6-9854-cfc76e718077",
   "metadata": {},
   "outputs": [
    {
     "name": "stdout",
     "output_type": "stream",
     "text": [
      "Hello, world!42\n",
      "11152 a.out\n"
     ]
    }
   ],
   "source": [
    "%%bash\n",
    "gcc -Os -s \\\n",
    "-fno-asynchronous-unwind-tables \\\n",
    "-Wl,-z,norelro \\\n",
    "-Wl,--gc-sections \\\n",
    "tiny.c\n",
    "./a.out ; echo $? ; wc -c a.out"
   ]
  },
  {
   "cell_type": "code",
   "execution_count": 286,
   "id": "5b35aebd-7b11-4dfe-bf21-665e34077684",
   "metadata": {},
   "outputs": [
    {
     "name": "stdout",
     "output_type": "stream",
     "text": [
      "Hello, world!42\n",
      "10560 a.out\n"
     ]
    }
   ],
   "source": [
    "%%bash\n",
    "strip --strip-unneeded --strip-all \\\n",
    "--remove-section=.comment \\\n",
    "--remove-section=.note* \\\n",
    "--remove-section=.eh_frame* \\\n",
    "--remove-section=.gnu.version \\\n",
    "a.out\n",
    "./a.out ; echo $? ; wc -c a.out"
   ]
  },
  {
   "cell_type": "markdown",
   "id": "ebfea964-e446-4b50-a9a9-6a7cf5901d71",
   "metadata": {},
   "source": [
    "---"
   ]
  },
  {
   "cell_type": "code",
   "execution_count": 297,
   "id": "3717fb65-951c-4893-a215-f8b960d4cc54",
   "metadata": {},
   "outputs": [
    {
     "name": "stdout",
     "output_type": "stream",
     "text": [
      "Hello, world!42\n",
      "11208 a.out\n"
     ]
    }
   ],
   "source": [
    "%%bash\n",
    "gcc -s \\\n",
    "-Wl,-z,norelro \\\n",
    "tiny.c\n",
    "./a.out ; echo $? ; wc -c a.out"
   ]
  },
  {
   "cell_type": "code",
   "execution_count": 298,
   "id": "2e801ff1-2bdf-4279-921f-1fb88f93a726",
   "metadata": {},
   "outputs": [
    {
     "name": "stdout",
     "output_type": "stream",
     "text": [
      " Hello, World!\n",
      "42\n",
      "11248 a.out\n"
     ]
    }
   ],
   "source": [
    "%%bash\n",
    "gfortran -s \\\n",
    "-Wl,-z,norelro \\\n",
    "hello.f95\n",
    "./a.out ; echo $? ; wc -c a.out"
   ]
  },
  {
   "cell_type": "code",
   "execution_count": 1,
   "id": "dc2e3711-00ff-445c-84ab-d214af68d03f",
   "metadata": {},
   "outputs": [
    {
     "name": "stdout",
     "output_type": "stream",
     "text": [
      " Hello, World!\n",
      "42\n",
      "11240 a.out\n"
     ]
    }
   ],
   "source": [
    "%%bash\n",
    "gfortran -Os -s \\\n",
    "-Wl,-z,norelro \\\n",
    "hello.f95\n",
    "./a.out ; echo $? ; wc -c a.out"
   ]
  },
  {
   "cell_type": "code",
   "execution_count": 8,
   "id": "e8f4b312-5271-4fc5-9608-2de8cb28d681",
   "metadata": {},
   "outputs": [
    {
     "name": "stdout",
     "output_type": "stream",
     "text": [
      " Hello, World!\n",
      "42\n",
      "11168 a.out\n"
     ]
    }
   ],
   "source": [
    "%%bash\n",
    "gfortran -Os -s \\\n",
    "-fno-asynchronous-unwind-tables \\\n",
    "-Wl,-z,norelro \\\n",
    "hello.f95\n",
    "./a.out ; echo $? ; wc -c a.out"
   ]
  },
  {
   "cell_type": "code",
   "execution_count": 9,
   "id": "5c81c720-0ed9-4865-9f64-b2ac696fce10",
   "metadata": {},
   "outputs": [
    {
     "name": "stdout",
     "output_type": "stream",
     "text": [
      " Hello, World!\n",
      "42\n",
      "11160 a.out\n"
     ]
    }
   ],
   "source": [
    "%%bash\n",
    "gfortran -Os -s \\\n",
    "-fno-asynchronous-unwind-tables \\\n",
    "-Wl,-z,norelro \\\n",
    "-Wl,--gc-sections \\\n",
    "hello.f95\n",
    "./a.out ; echo $? ; wc -c a.out"
   ]
  },
  {
   "cell_type": "code",
   "execution_count": 15,
   "id": "fb4b31be-41ad-4db6-95d1-b3fc67f25776",
   "metadata": {},
   "outputs": [
    {
     "name": "stderr",
     "output_type": "stream",
     "text": [
      "/usr/bin/ld: warning: cannot find entry symbol _start; defaulting to 0000000000001070\n"
     ]
    },
    {
     "name": "stdout",
     "output_type": "stream",
     "text": [
      " Hello, World!\n",
      "42\n",
      "9976 a.out\n"
     ]
    }
   ],
   "source": [
    "%%bash\n",
    "gfortran -Os -s -nostartfiles \\\n",
    "-fno-asynchronous-unwind-tables \\\n",
    "-Wl,-z,norelro \\\n",
    "hello.f95\n",
    "./a.out ; echo $? ; wc -c a.out"
   ]
  },
  {
   "cell_type": "code",
   "execution_count": 18,
   "id": "d38ed6f5-d926-4e74-894b-269f68985d4b",
   "metadata": {},
   "outputs": [
    {
     "name": "stderr",
     "output_type": "stream",
     "text": [
      "/usr/bin/ld: warning: cannot find entry symbol _start; defaulting to 0000000000001070\n"
     ]
    },
    {
     "name": "stdout",
     "output_type": "stream",
     "text": [
      " Hello, World!\n",
      "42\n",
      "9960 a.out\n"
     ]
    }
   ],
   "source": [
    "%%bash\n",
    "gfortran -s -nostartfiles \\\n",
    "-fno-asynchronous-unwind-tables \\\n",
    "-Wl,-z,norelro \\\n",
    "hello.f95\n",
    "./a.out ; echo $? ; wc -c a.out"
   ]
  },
  {
   "cell_type": "code",
   "execution_count": 20,
   "id": "3bc85fa4-f1d5-4e5b-947e-f9fdef06fb6c",
   "metadata": {},
   "outputs": [
    {
     "name": "stderr",
     "output_type": "stream",
     "text": [
      "/usr/bin/ld: warning: cannot find entry symbol _start; defaulting to 0000000000001070\n"
     ]
    },
    {
     "name": "stdout",
     "output_type": "stream",
     "text": [
      " Hello, World!\n",
      "42\n",
      "9960 a.out\n"
     ]
    }
   ],
   "source": [
    "%%bash\n",
    "gfortran -s -nostartfiles \\\n",
    "-fno-asynchronous-unwind-tables \\\n",
    "-Wl,-z,norelro \\\n",
    "hello.f95\n",
    "./a.out ; echo $? ; wc -c a.out"
   ]
  },
  {
   "cell_type": "code",
   "execution_count": 26,
   "id": "be9b4e74-8273-4867-b51d-bff382b98ecb",
   "metadata": {},
   "outputs": [
    {
     "name": "stderr",
     "output_type": "stream",
     "text": [
      "/usr/bin/ld: warning: cannot find entry symbol _start; defaulting to 0000000000001070\n"
     ]
    },
    {
     "name": "stdout",
     "output_type": "stream",
     "text": [
      " Hello, World!\n",
      "42\n",
      "9880 a.out\n"
     ]
    }
   ],
   "source": [
    "%%bash\n",
    "gfortran -s -nostartfiles \\\n",
    "-fno-asynchronous-unwind-tables \\\n",
    "-Wl,-z,norelro \\\n",
    "-Wl,--build-id=none \\\n",
    "hello.f95\n",
    "./a.out ; echo $? ; wc -c a.out"
   ]
  },
  {
   "cell_type": "code",
   "execution_count": 47,
   "id": "e727c63a-2a8f-45e9-9c7f-7a2bf6d1b15c",
   "metadata": {},
   "outputs": [
    {
     "name": "stderr",
     "output_type": "stream",
     "text": [
      "/usr/bin/ld: warning: cannot find entry symbol _start; defaulting to 0000000000401070\n"
     ]
    },
    {
     "name": "stdout",
     "output_type": "stream",
     "text": [
      " Hello, World!\n",
      "42\n",
      "9856 a.out\n"
     ]
    }
   ],
   "source": [
    "%%bash\n",
    "gfortran -s -nostartfiles -no-pie \\\n",
    "-fno-asynchronous-unwind-tables \\\n",
    "-Wl,-z,norelro \\\n",
    "-Wl,--build-id=none \\\n",
    "hello.f95\n",
    "./a.out ; echo $? ; wc -c a.out"
   ]
  },
  {
   "cell_type": "code",
   "execution_count": 77,
   "id": "80d62dcd-8549-4837-acac-be9fa3ff175e",
   "metadata": {},
   "outputs": [
    {
     "name": "stderr",
     "output_type": "stream",
     "text": [
      "/usr/bin/ld: warning: cannot find entry symbol _start; defaulting to 0000000000401070\n"
     ]
    },
    {
     "name": "stdout",
     "output_type": "stream",
     "text": [
      " Hello, World!\n",
      "42\n",
      "9512 a.out\n"
     ]
    }
   ],
   "source": [
    "%%bash\n",
    "gfortran -s -nostartfiles -no-pie \\\n",
    "-fno-asynchronous-unwind-tables \\\n",
    "-Wl,-z,norelro \\\n",
    "-Wl,--build-id=none \\\n",
    "hello.f95\n",
    "objcopy -R .comment -R .gnu.version -R .eh_frame -R .gnu.hash a.out\n",
    "./a.out ; echo $? ; wc -c a.out"
   ]
  },
  {
   "cell_type": "code",
   "execution_count": 78,
   "id": "105274bf-f981-4961-b708-ff38aa4fa881",
   "metadata": {
    "scrolled": true
   },
   "outputs": [
    {
     "name": "stdout",
     "output_type": "stream",
     "text": [
      "\n",
      "a.out:     file format elf64-x86-64\n",
      "a.out\n",
      "architecture: i386:x86-64, flags 0x00000112:\n",
      "EXEC_P, HAS_SYMS, D_PAGED\n",
      "start address 0x0000000000401070\n",
      "\n",
      "Program Header:\n",
      "    PHDR off    0x0000000000000040 vaddr 0x0000000000400040 paddr 0x0000000000400040 align 2**3\n",
      "         filesz 0x00000000000001c0 memsz 0x00000000000001c0 flags r--\n",
      "  INTERP off    0x0000000000000200 vaddr 0x0000000000400200 paddr 0x0000000000400200 align 2**0\n",
      "         filesz 0x000000000000001c memsz 0x000000000000001c flags r--\n",
      "    LOAD off    0x0000000000000000 vaddr 0x0000000000400000 paddr 0x0000000000400000 align 2**12\n",
      "         filesz 0x0000000000000450 memsz 0x0000000000000450 flags r--\n",
      "    LOAD off    0x0000000000001000 vaddr 0x0000000000401000 paddr 0x0000000000401000 align 2**12\n",
      "         filesz 0x0000000000000137 memsz 0x0000000000000137 flags r-x\n",
      "    LOAD off    0x0000000000002000 vaddr 0x0000000000402000 paddr 0x0000000000402000 align 2**12\n",
      "         filesz 0x000000000000003c memsz 0x000000000000003c flags r--\n",
      "    LOAD off    0x0000000000002040 vaddr 0x0000000000403040 paddr 0x0000000000403040 align 2**12\n",
      "         filesz 0x0000000000000188 memsz 0x0000000000000188 flags rw-\n",
      " DYNAMIC off    0x0000000000002040 vaddr 0x0000000000403040 paddr 0x0000000000403040 align 2**3\n",
      "         filesz 0x0000000000000140 memsz 0x0000000000000140 flags rw-\n",
      "   STACK off    0x0000000000000000 vaddr 0x0000000000000000 paddr 0x0000000000000000 align 2**3\n",
      "         filesz 0x0000000000000000 memsz 0x0000000000000000 flags rw-\n",
      "\n",
      "Dynamic Section:\n",
      "  NEEDED               libgfortran.so.5\n",
      "  GNU_HASH             0x0000000000400220\n",
      "  STRTAB               0x00000000004002e8\n",
      "  SYMTAB               0x0000000000400240\n",
      "  STRSZ                0x00000000000000a6\n",
      "  SYMENT               0x0000000000000018\n",
      "  DEBUG                0x0000000000000000\n",
      "  PLTGOT               0x0000000000403180\n",
      "  PLTRELSZ             0x0000000000000090\n",
      "  PLTREL               0x0000000000000007\n",
      "  JMPREL               0x00000000004003c0\n",
      "  VERNEED              0x00000000004003a0\n",
      "  VERNEEDNUM           0x0000000000000001\n",
      "  VERSYM               0x000000000040038e\n",
      "\n",
      "Version References:\n",
      "  required from libgfortran.so.5:\n",
      "    0x0792f968 0x00 02 GFORTRAN_8\n",
      "\n",
      "Sections:\n",
      "Idx Name          Size      VMA               LMA               File off  Algn\n",
      "  0 .interp       0000001c  0000000000400200  0000000000400200  00000200  2**0\n",
      "                  CONTENTS, ALLOC, LOAD, READONLY, DATA\n",
      "  1 .dynsym       000000a8  0000000000400240  0000000000400240  00000240  2**3\n",
      "                  CONTENTS, ALLOC, LOAD, READONLY, DATA\n",
      "  2 .dynstr       000000a6  00000000004002e8  00000000004002e8  000002e8  2**0\n",
      "                  CONTENTS, ALLOC, LOAD, READONLY, DATA\n",
      "  3 .gnu.version_r 00000020  00000000004003a0  00000000004003a0  000003a0  2**3\n",
      "                  CONTENTS, ALLOC, LOAD, READONLY, DATA\n",
      "  4 .rela.plt     00000090  00000000004003c0  00000000004003c0  000003c0  2**3\n",
      "                  CONTENTS, ALLOC, LOAD, READONLY, DATA\n",
      "  5 .plt          00000070  0000000000401000  0000000000401000  00001000  2**4\n",
      "                  CONTENTS, ALLOC, LOAD, READONLY, CODE\n",
      "  6 .text         000000c7  0000000000401070  0000000000401070  00001070  2**0\n",
      "                  CONTENTS, ALLOC, LOAD, READONLY, CODE\n",
      "  7 .rodata       0000003c  0000000000402000  0000000000402000  00002000  2**4\n",
      "                  CONTENTS, ALLOC, LOAD, READONLY, DATA\n",
      "  8 .dynamic      00000140  0000000000403040  0000000000403040  00002040  2**3\n",
      "                  CONTENTS, ALLOC, LOAD, DATA\n",
      "  9 .got.plt      00000048  0000000000403180  0000000000403180  00002180  2**3\n",
      "                  CONTENTS, ALLOC, LOAD, DATA\n",
      "SYMBOL TABLE:\n",
      "no symbols\n",
      "\n",
      "\n"
     ]
    }
   ],
   "source": [
    "! objdump -x a.out"
   ]
  },
  {
   "cell_type": "markdown",
   "id": "0f1c380d-6bca-4904-a5b1-b01aad107fe4",
   "metadata": {},
   "source": [
    "## References\n",
    "\n",
    "- <https://fortran-lang.org/en/learn/quickstart/hello_world/>\n",
    "- <https://wiki.wxwidgets.org/Reducing_Executable_Size>\n",
    "- <http://www.muppetlabs.com/~breadbox/software/tiny/teensy.html>\n",
    "- <http://cs107e.github.io/guides/gcc/>\n",
    "- <http://timelessname.com/elfbin/>\n",
    "- <https://web.archive.org/web/20100924220817/http://utilitybase.com/article/show/2007/04/09/225/Size+does+matter:+Optimizing+with+size+in+mind+with+GCC>\n",
    "- <https://stackoverflow.com/questions/33597523/why-is-smallest-compiled-exe-i-can-make-with-gcc-is-67kb>\n",
    "- <https://stackoverflow.com/questions/67516597/gcc-passing-nostartfiles-to-ld-via-gcc-for-minimal-binary-size>\n",
    "- <https://stackoverflow.com/questions/65037919/minimal-executable-size-now-10x-larger-after-linking-than-2-years-ago-for-tiny>\n",
    "- <https://stackoverflow.com/questions/60570279/what-is-a-reasonable-minimum-number-of-assembly-instructions-for-a-small-c-progr>"
   ]
  }
 ],
 "metadata": {
  "kernelspec": {
   "display_name": "Python 3 (ipykernel)",
   "language": "python",
   "name": "python3"
  },
  "language_info": {
   "codemirror_mode": {
    "name": "ipython",
    "version": 3
   },
   "file_extension": ".py",
   "mimetype": "text/x-python",
   "name": "python",
   "nbconvert_exporter": "python",
   "pygments_lexer": "ipython3",
   "version": "3.12.5"
  }
 },
 "nbformat": 4,
 "nbformat_minor": 5
}
