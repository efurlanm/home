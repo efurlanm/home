{
 "cells": [
  {
   "cell_type": "markdown",
   "metadata": {},
   "source": [
    "# Fortran and assembly\n",
    "\n",
    "Reference: https://gcc.gnu.org/wiki/GFortranHacking"
   ]
  },
  {
   "cell_type": "code",
   "execution_count": 4,
   "metadata": {},
   "outputs": [
    {
     "name": "stdout",
     "output_type": "stream",
     "text": [
      "Writing hello.f90\n"
     ]
    }
   ],
   "source": [
    "%%writefile hello.f90\n",
    "program hello\n",
    "          print *, \"Hello World!\"\n",
    "end program"
   ]
  },
  {
   "cell_type": "code",
   "execution_count": 8,
   "metadata": {},
   "outputs": [],
   "source": [
    "! gfortran hello.f90"
   ]
  },
  {
   "cell_type": "code",
   "execution_count": 9,
   "metadata": {},
   "outputs": [
    {
     "name": "stdout",
     "output_type": "stream",
     "text": [
      " Hello World!\n"
     ]
    }
   ],
   "source": [
    "! ./a.out"
   ]
  },
  {
   "cell_type": "code",
   "execution_count": 10,
   "metadata": {},
   "outputs": [],
   "source": [
    "! gfortran -S hello.f90"
   ]
  },
  {
   "cell_type": "code",
   "execution_count": 11,
   "metadata": {},
   "outputs": [
    {
     "name": "stdout",
     "output_type": "stream",
     "text": [
      "\t.file\t\"hello.f90\"\n",
      "\t.text\n",
      "\t.section\t.rodata\n",
      ".LC0:\n",
      "\t.string\t\"hello.f90\"\n",
      ".LC1:\n",
      "\t.ascii\t\"Hello World!\"\n",
      "\t.text\n",
      "\t.type\tMAIN__, @function\n",
      "MAIN__:\n",
      ".LFB0:\n",
      "\t.cfi_startproc\n",
      "\tpushq\t%rbp\n",
      "\t.cfi_def_cfa_offset 16\n",
      "\t.cfi_offset 6, -16\n",
      "\tmovq\t%rsp, %rbp\n",
      "\t.cfi_def_cfa_register 6\n",
      "\tsubq\t$528, %rsp\n",
      "\tmovq\t$.LC0, -520(%rbp)\n",
      "\tmovl\t$2, -512(%rbp)\n",
      "\tmovl\t$128, -528(%rbp)\n",
      "\tmovl\t$6, -524(%rbp)\n",
      "\tleaq\t-528(%rbp), %rax\n",
      "\tmovq\t%rax, %rdi\n",
      "\tcall\t_gfortran_st_write\n",
      "\tleaq\t-528(%rbp), %rax\n",
      "\tmovl\t$12, %edx\n",
      "\tmovl\t$.LC1, %esi\n",
      "\tmovq\t%rax, %rdi\n",
      "\tcall\t_gfortran_transfer_character_write\n",
      "\tleaq\t-528(%rbp), %rax\n",
      "\tmovq\t%rax, %rdi\n",
      "\tcall\t_gfortran_st_write_done\n",
      "\tnop\n",
      "\tleave\n",
      "\t.cfi_def_cfa 7, 8\n",
      "\tret\n",
      "\t.cfi_endproc\n",
      ".LFE0:\n",
      "\t.size\tMAIN__, .-MAIN__\n",
      "\t.globl\tmain\n",
      "\t.type\tmain, @function\n",
      "main:\n",
      ".LFB1:\n",
      "\t.cfi_startproc\n",
      "\tpushq\t%rbp\n",
      "\t.cfi_def_cfa_offset 16\n",
      "\t.cfi_offset 6, -16\n",
      "\tmovq\t%rsp, %rbp\n",
      "\t.cfi_def_cfa_register 6\n",
      "\tsubq\t$16, %rsp\n",
      "\tmovl\t%edi, -4(%rbp)\n",
      "\tmovq\t%rsi, -16(%rbp)\n",
      "\tmovq\t-16(%rbp), %rdx\n",
      "\tmovl\t-4(%rbp), %eax\n",
      "\tmovq\t%rdx, %rsi\n",
      "\tmovl\t%eax, %edi\n",
      "\tcall\t_gfortran_set_args\n",
      "\tmovl\t$options.1.0, %esi\n",
      "\tmovl\t$7, %edi\n",
      "\tcall\t_gfortran_set_options\n",
      "\tcall\tMAIN__\n",
      "\tmovl\t$0, %eax\n",
      "\tleave\n",
      "\t.cfi_def_cfa 7, 8\n",
      "\tret\n",
      "\t.cfi_endproc\n",
      ".LFE1:\n",
      "\t.size\tmain, .-main\n",
      "\t.section\t.rodata\n",
      "\t.align 16\n",
      "\t.type\toptions.1.0, @object\n",
      "\t.size\toptions.1.0, 28\n",
      "options.1.0:\n",
      "\t.long\t2116\n",
      "\t.long\t4095\n",
      "\t.long\t0\n",
      "\t.long\t1\n",
      "\t.long\t1\n",
      "\t.long\t0\n",
      "\t.long\t31\n",
      "\t.ident\t\"GCC: (GNU) 10.2.1 20201125 (Red Hat 10.2.1-9)\"\n",
      "\t.section\t.note.GNU-stack,\"\",@progbits\n"
     ]
    }
   ],
   "source": [
    "! cat hello.s"
   ]
  },
  {
   "cell_type": "code",
   "execution_count": 12,
   "metadata": {},
   "outputs": [],
   "source": [
    "! gfortran -S -fverbose-asm -fdump-tree-original-uid -fdump-tree-optimized-uid hello.f90"
   ]
  },
  {
   "cell_type": "code",
   "execution_count": 13,
   "metadata": {},
   "outputs": [
    {
     "name": "stdout",
     "output_type": "stream",
     "text": [
      "\t.file\t\"hello.f90\"\n",
      "# GNU Fortran2008 (GCC) version 10.2.1 20201125 (Red Hat 10.2.1-9) (x86_64-redhat-linux)\n",
      "#\tcompiled by GNU C version 10.2.1 20201125 (Red Hat 10.2.1-9), GMP version 6.2.0, MPFR version 4.1.0, MPC version 1.1.0, isl version none\n",
      "# warning: MPFR header version 4.1.0 differs from library version 4.1.0-p9.\n",
      "# GGC heuristics: --param ggc-min-expand=100 --param ggc-min-heapsize=131072\n",
      "# options passed:  hello.f90 -mtune=generic -march=x86-64 -fverbose-asm\n",
      "# -fdump-tree-original-uid -fdump-tree-optimized-uid\n",
      "# -fintrinsic-modules-path /usr/lib/gcc/x86_64-redhat-linux/10/finclude\n",
      "# -fpre-include=/usr/include/finclude/math-vector-fortran.h\n",
      "# options enabled:  -faggressive-loop-optimizations -fallocation-dce\n",
      "# -fasynchronous-unwind-tables -fauto-inc-dec -fdelete-null-pointer-checks\n",
      "# -fdwarf2-cfi-asm -fearly-inlining -feliminate-unused-debug-symbols\n",
      "# -feliminate-unused-debug-types -ffp-int-builtin-inexact -ffunction-cse\n",
      "# -fgcse-lm -fgnu-unique -fident -finline-atomics -fipa-stack-alignment\n",
      "# -fira-hoist-pressure -fira-share-save-slots -fira-share-spill-slots\n",
      "# -fivopts -fkeep-static-consts -fleading-underscore -flifetime-dse\n",
      "# -fmerge-debug-strings -fpeephole -fplt -fprefetch-loop-arrays\n",
      "# -freg-struct-return -fsched-critical-path-heuristic\n",
      "# -fsched-dep-count-heuristic -fsched-group-heuristic -fsched-interblock\n",
      "# -fsched-last-insn-heuristic -fsched-rank-heuristic -fsched-spec\n",
      "# -fsched-spec-insn-heuristic -fsched-stalled-insns-dep -fschedule-fusion\n",
      "# -fsemantic-interposition -fshow-column -fshrink-wrap-separate\n",
      "# -fsigned-zeros -fsplit-ivs-in-unroller -fssa-backprop -fstdarg-opt\n",
      "# -fstrict-volatile-bitfields -fsync-libcalls -ftrapping-math -ftree-cselim\n",
      "# -ftree-forwprop -ftree-loop-if-convert -ftree-loop-im -ftree-loop-ivcanon\n",
      "# -ftree-loop-optimize -ftree-parallelize-loops= -ftree-phiprop\n",
      "# -ftree-reassoc -ftree-scev-cprop -funit-at-a-time -funwind-tables\n",
      "# -fverbose-asm -fzero-initialized-in-bss -m128bit-long-double -m64 -m80387\n",
      "# -malign-stringops -mavx256-split-unaligned-load\n",
      "# -mavx256-split-unaligned-store -mfancy-math-387 -mfp-ret-in-387 -mfxsr\n",
      "# -mglibc -mieee-fp -mlong-double-80 -mmmx -mno-sse4 -mpush-args -mred-zone\n",
      "# -msse -msse2 -mstv -mtls-direct-seg-refs -mvzeroupper\n",
      "\n",
      "\t.text\n",
      "\t.section\t.rodata\n",
      ".LC0:\n",
      "\t.string\t\"hello.f90\"\n",
      ".LC1:\n",
      "\t.ascii\t\"Hello World!\"\n",
      "\t.text\n",
      "\t.type\tMAIN__, @function\n",
      "MAIN__:\n",
      ".LFB0:\n",
      "\t.cfi_startproc\n",
      "\tpushq\t%rbp\t#\n",
      "\t.cfi_def_cfa_offset 16\n",
      "\t.cfi_offset 6, -16\n",
      "\tmovq\t%rsp, %rbp\t#,\n",
      "\t.cfi_def_cfa_register 6\n",
      "\tsubq\t$528, %rsp\t#,\n",
      "# hello.f90:2:           print *, \"Hello World!\"\n",
      "\tmovq\t$.LC0, -520(%rbp)\t#, dt_parm.0.common.filename\n",
      "\tmovl\t$2, -512(%rbp)\t#, dt_parm.0.common.line\n",
      "\tmovl\t$128, -528(%rbp)\t#, dt_parm.0.common.flags\n",
      "\tmovl\t$6, -524(%rbp)\t#, dt_parm.0.common.unit\n",
      "\tleaq\t-528(%rbp), %rax\t#, tmp82\n",
      "\tmovq\t%rax, %rdi\t# tmp82,\n",
      "\tcall\t_gfortran_st_write\t#\n",
      "\tleaq\t-528(%rbp), %rax\t#, tmp83\n",
      "\tmovl\t$12, %edx\t#,\n",
      "\tmovl\t$.LC1, %esi\t#,\n",
      "\tmovq\t%rax, %rdi\t# tmp83,\n",
      "\tcall\t_gfortran_transfer_character_write\t#\n",
      "\tleaq\t-528(%rbp), %rax\t#, tmp84\n",
      "\tmovq\t%rax, %rdi\t# tmp84,\n",
      "\tcall\t_gfortran_st_write_done\t#\n",
      "# hello.f90:3: end program\n",
      "\tnop\t\n",
      "\tleave\t\n",
      "\t.cfi_def_cfa 7, 8\n",
      "\tret\t\n",
      "\t.cfi_endproc\n",
      ".LFE0:\n",
      "\t.size\tMAIN__, .-MAIN__\n",
      "\t.globl\tmain\n",
      "\t.type\tmain, @function\n",
      "main:\n",
      ".LFB1:\n",
      "\t.cfi_startproc\n",
      "\tpushq\t%rbp\t#\n",
      "\t.cfi_def_cfa_offset 16\n",
      "\t.cfi_offset 6, -16\n",
      "\tmovq\t%rsp, %rbp\t#,\n",
      "\t.cfi_def_cfa_register 6\n",
      "\tsubq\t$16, %rsp\t#,\n",
      "\tmovl\t%edi, -4(%rbp)\t# argc, argc\n",
      "\tmovq\t%rsi, -16(%rbp)\t# argv, argv\n",
      "# hello.f90:3: end program\n",
      "\tmovq\t-16(%rbp), %rdx\t# argv, tmp84\n",
      "\tmovl\t-4(%rbp), %eax\t# argc, tmp85\n",
      "\tmovq\t%rdx, %rsi\t# tmp84,\n",
      "\tmovl\t%eax, %edi\t# tmp85,\n",
      "\tcall\t_gfortran_set_args\t#\n",
      "\tmovl\t$options.1.0, %esi\t#,\n",
      "\tmovl\t$7, %edi\t#,\n",
      "\tcall\t_gfortran_set_options\t#\n",
      "\tcall\tMAIN__\t#\n",
      "\tmovl\t$0, %eax\t#, _7\n",
      "\tleave\t\n",
      "\t.cfi_def_cfa 7, 8\n",
      "\tret\t\n",
      "\t.cfi_endproc\n",
      ".LFE1:\n",
      "\t.size\tmain, .-main\n",
      "\t.section\t.rodata\n",
      "\t.align 16\n",
      "\t.type\toptions.1.0, @object\n",
      "\t.size\toptions.1.0, 28\n",
      "options.1.0:\n",
      "\t.long\t2116\n",
      "\t.long\t4095\n",
      "\t.long\t0\n",
      "\t.long\t1\n",
      "\t.long\t1\n",
      "\t.long\t0\n",
      "\t.long\t31\n",
      "\t.ident\t\"GCC: (GNU) 10.2.1 20201125 (Red Hat 10.2.1-9)\"\n",
      "\t.section\t.note.GNU-stack,\"\",@progbits\n"
     ]
    }
   ],
   "source": [
    "! cat hello.s"
   ]
  },
  {
   "cell_type": "code",
   "execution_count": null,
   "metadata": {},
   "outputs": [],
   "source": []
  }
 ],
 "metadata": {
  "kernelspec": {
   "display_name": "Python 3 (ipykernel)",
   "language": "python",
   "name": "python3"
  },
  "language_info": {
   "codemirror_mode": {
    "name": "ipython",
    "version": 3
   },
   "file_extension": ".py",
   "mimetype": "text/x-python",
   "name": "python",
   "nbconvert_exporter": "python",
   "pygments_lexer": "ipython3",
   "version": "3.12.5"
  }
 },
 "nbformat": 4,
 "nbformat_minor": 4
}
