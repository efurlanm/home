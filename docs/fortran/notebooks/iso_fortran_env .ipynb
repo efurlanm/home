{
 "cells": [
  {
   "cell_type": "markdown",
   "id": "c0d8a6bf-f888-41c8-b50c-00066a9861e0",
   "metadata": {},
   "source": [
    "# iso_fortran_env intrinsic\n",
    "\n",
    "*Last edited: 2024-11-27*\n",
    "\n",
    "Based on: https://fortranwiki.org/fortran/show/iso_fortran_env"
   ]
  },
  {
   "cell_type": "markdown",
   "id": "884b2303-500c-4cd0-8108-73abfb5000c0",
   "metadata": {},
   "source": [
    "## compiler_options intrinsic"
   ]
  },
  {
   "cell_type": "code",
   "execution_count": 1,
   "id": "e94bbc13-d72d-4b31-a6ac-f3e9ac9f4220",
   "metadata": {},
   "outputs": [
    {
     "name": "stdout",
     "output_type": "stream",
     "text": [
      "Writing compoptiintr.f90\n"
     ]
    }
   ],
   "source": [
    "%%writefile compoptiintr.f90\n",
    "use iso_fortran_env\n",
    "print '(4a)', 'This file was compiled by ', &\n",
    "              compiler_version(), ' using the options ', &\n",
    "              compiler_options()\n",
    "end"
   ]
  },
  {
   "cell_type": "code",
   "execution_count": 1,
   "id": "e1591bc2-0266-43cd-854f-23170505c6c9",
   "metadata": {},
   "outputs": [
    {
     "name": "stdout",
     "output_type": "stream",
     "text": [
      "This file was compiled by GCC version 11.4.0 using the options -mtune=generic -march=x86-64 -fpre-include=/usr/include/finclude/math-vector-fortran.h\n"
     ]
    }
   ],
   "source": [
    "! gfortran compoptiintr.f90 && ./a.out"
   ]
  }
 ],
 "metadata": {
  "kernelspec": {
   "display_name": "Python 3 (ipykernel)",
   "language": "python",
   "name": "python3"
  },
  "language_info": {
   "codemirror_mode": {
    "name": "ipython",
    "version": 3
   },
   "file_extension": ".py",
   "mimetype": "text/x-python",
   "name": "python",
   "nbconvert_exporter": "python",
   "pygments_lexer": "ipython3",
   "version": "3.12.5"
  }
 },
 "nbformat": 4,
 "nbformat_minor": 5
}
