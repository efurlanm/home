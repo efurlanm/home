{
 "cells": [
  {
   "cell_type": "markdown",
   "id": "18011ead-2de2-4958-bee7-37d4c8be71cd",
   "metadata": {},
   "source": [
    "# CSV example\n",
    "\n",
    "*Last edited: 2023-12-11*"
   ]
  },
  {
   "cell_type": "code",
   "execution_count": 1,
   "id": "6be0cdbd-f269-45d8-bad4-393b44b6bc5c",
   "metadata": {},
   "outputs": [
    {
     "name": "stdout",
     "output_type": "stream",
     "text": [
      "Writing data.txt\n"
     ]
    }
   ],
   "source": [
    "%%writefile data.txt\n",
    "1, \"Mediterranean Avenue\"\n",
    "2, \"Baltic Avenue\"\n",
    "3, \"Oriental Avenue\"\n",
    "4, \"Vermont Avenue\"\n",
    "5, \"Connecticut Avenue\"\n",
    "6, \"St. Charles Place\""
   ]
  },
  {
   "cell_type": "code",
   "execution_count": 2,
   "id": "6870ba46-c5a5-428b-b6cc-01689732f42b",
   "metadata": {},
   "outputs": [
    {
     "name": "stdout",
     "output_type": "stream",
     "text": [
      "Writing csv.f90\n"
     ]
    }
   ],
   "source": [
    "%%writefile csv.f90\n",
    "program main\n",
    "    use, intrinsic :: iso_fortran_env               ! error_unit\n",
    "    implicit none\n",
    "\n",
    "    character(len=*), parameter :: F = 'data.txt'   ! File name.\n",
    "    integer,          parameter :: U = 20           ! Output unit.\n",
    "    character(len=100)          :: street\n",
    "    integer                     :: i, rc\n",
    "\n",
    "    open (unit=U, action='read', file=F, iostat=rc)\n",
    "    if (rc /= 0) then\n",
    "        write (error_unit, '(3a, i0)') 'Reading file \"', F,  &\n",
    "            '\" failed: error ', rc\n",
    "        stop\n",
    "    end if\n",
    "\n",
    "    do\n",
    "        read (U, *, iostat=rc) i, street            ! Read from file.\n",
    "        if (rc /= 0) exit                           ! Exit on error.\n",
    "        print '(i1, a, a)', i, ': ', trim(street)   ! Output line.\n",
    "    end do\n",
    "\n",
    "    close (U)\n",
    "end program main"
   ]
  },
  {
   "cell_type": "code",
   "execution_count": 18,
   "id": "5d59a143-86e8-43e4-9adb-2cd1a7330f8c",
   "metadata": {},
   "outputs": [
    {
     "name": "stdout",
     "output_type": "stream",
     "text": [
      "1: Mediterranean Avenue\n",
      "2: Baltic Avenue\n",
      "3: Oriental Avenue\n",
      "4: Vermont Avenue\n",
      "5: Connecticut Avenue\n",
      "6: St. Charles Place\n",
      "0\n",
      "10760 a.out\n"
     ]
    }
   ],
   "source": [
    "%%bash\n",
    "gfortran -O3 -s \\\n",
    "    -no-pie \\\n",
    "    -fomit-frame-pointer \\\n",
    "    -fno-exceptions \\\n",
    "    -fno-unwind-tables \\\n",
    "    -fno-asynchronous-unwind-tables \\\n",
    "    -Wl,-z,norelro \\\n",
    "    -Wl,--build-id=none \\\n",
    "    csv.f90\n",
    "objcopy -R .comment -R .gnu.version -R .gnu.hash -R .note* a.out\n",
    "./a.out ; echo $? ; wc -c a.out"
   ]
  },
  {
   "cell_type": "markdown",
   "id": "84354c11-7e9c-4c27-9c70-d0c017371b44",
   "metadata": {},
   "source": [
    "* -no-pie\n",
    "    * Don’t produce a dynamically linked position independent executable.\n",
    "* -fomit-frame-pointer\n",
    "    * Don't keep the frame pointer in a register for functions that don't need one.\n",
    "* -fno-exceptions\n",
    "    * The -fno-exceptions flag in gfortran disables the generation of exception handling code. This means that the compiler will not produce code to handle runtime errors such as division by zero, floating-point exceptions, or invalid operations. This can result in a smaller and potentially faster executable, but it also means that your program won't be able to gracefully handle these errors.\n",
    "* -fno-unwind-tables\n",
    "    * The -fno-unwind-tables flag in gfortran disables the generation of unwind tables in the generated code. Unwind tables are used for stack unwinding during exception handling and are part of the exception handling mechanism. By using this flag, you can reduce the size of the executable, but it also means that the program will not have proper stack unwinding support, which can affect debugging and exception handling.\n",
    "* -fno-asynchronous-unwind-tables\n",
    "    * Asynchronous unwind tables are used for stack unwinding from asynchronous events, such as those triggered by a debugger or garbage collector.\n",
    "* -Wl,-z,norelro\n",
    "    * The -Wl,-z,norelro flag is used with the GNU linker (ld) to instruct the linker to omit the generation of the Relocation Read-Only (RELRO) sections in the executable. RELRO is a security feature that makes certain sections of the program memory read-only to prevent certain types of attacks, such as buffer overflow attack.\n",
    "* -Wl,--build-id=none\n",
    "    * The -Wl,--build-id=none flag is used with the GNU linker (ld) to instruct the linker to omit the generation of a unique build ID for the executable. The build ID is typically used for debugging purposes to uniquely identify different builds of the same program.\n",
    "\n",
    "Refs.:\n",
    "\n",
    "* <https://gcc.gnu.org/onlinedocs/gcc-4.0.3/gcc/Optimize-Options.html>\n",
    "* <https://gcc.gnu.org/onlinedocs/gcc/Link-Options.html>\n",
    "* <https://gcc.gnu.org/onlinedocs/gcc/Instrumentation-Options.html>"
   ]
  },
  {
   "cell_type": "code",
   "execution_count": 17,
   "id": "a25fa57a-e03a-4d21-8c86-388dd0584f4e",
   "metadata": {
    "scrolled": true
   },
   "outputs": [
    {
     "name": "stdout",
     "output_type": "stream",
     "text": [
      "\n",
      "a.out:     file format elf64-x86-64\n",
      "a.out\n",
      "architecture: i386:x86-64, flags 0x00000112:\n",
      "EXEC_P, HAS_SYMS, D_PAGED\n",
      "start address 0x0000000000401140\n",
      "\n",
      "Program Header:\n",
      "    PHDR off    0x0000000000000040 vaddr 0x0000000000400040 paddr 0x0000000000400040 align 2**3\n",
      "         filesz 0x00000000000002a0 memsz 0x00000000000002a0 flags r--\n",
      "  INTERP off    0x00000000000002e0 vaddr 0x00000000004002e0 paddr 0x00000000004002e0 align 2**0\n",
      "         filesz 0x000000000000001c memsz 0x000000000000001c flags r--\n",
      "    LOAD off    0x0000000000000000 vaddr 0x0000000000400000 paddr 0x0000000000400000 align 2**12\n",
      "         filesz 0x0000000000000880 memsz 0x0000000000000880 flags r--\n",
      "    LOAD off    0x0000000000001000 vaddr 0x0000000000401000 paddr 0x0000000000401000 align 2**12\n",
      "         filesz 0x00000000000004d5 memsz 0x00000000000004d5 flags r-x\n",
      "    LOAD off    0x0000000000002000 vaddr 0x0000000000402000 paddr 0x0000000000402000 align 2**12\n",
      "         filesz 0x00000000000000cc memsz 0x00000000000000cc flags r--\n",
      "    LOAD off    0x0000000000002138 vaddr 0x0000000000403138 paddr 0x0000000000403138 align 2**12\n",
      "         filesz 0x0000000000000298 memsz 0x00000000000002a0 flags rw-\n",
      " DYNAMIC off    0x0000000000002148 vaddr 0x0000000000403148 paddr 0x0000000000403148 align 2**3\n",
      "         filesz 0x00000000000001e0 memsz 0x00000000000001e0 flags rw-\n",
      "    NOTE off    0x0000000000000000 vaddr 0x0000000000400300 paddr 0x0000000000000000 align 2**3\n",
      "         filesz 0x0000000000000000 memsz 0x0000000000000000 flags r--\n",
      "    NOTE off    0x0000000000000000 vaddr 0x0000000000400320 paddr 0x0000000000000000 align 2**3\n",
      "         filesz 0x0000000000000000 memsz 0x0000000000000000 flags r--\n",
      "0x6474e553 off    0x0000000000000000 vaddr 0x0000000000400300 paddr 0x0000000000000000 align 2**3\n",
      "         filesz 0x0000000000000000 memsz 0x0000000000000000 flags r--\n",
      "EH_FRAME off    0x00000000000020a8 vaddr 0x00000000004020a8 paddr 0x00000000004020a8 align 2**2\n",
      "         filesz 0x0000000000000024 memsz 0x0000000000000024 flags r--\n",
      "   STACK off    0x0000000000000000 vaddr 0x0000000000000000 paddr 0x0000000000000000 align 2**3\n",
      "         filesz 0x0000000000000000 memsz 0x0000000000000000 flags rw-\n",
      "\n",
      "Dynamic Section:\n",
      "  NEEDED               libgfortran.so.5\n",
      "  NEEDED               libc.so.6\n",
      "  INIT                 0x0000000000401000\n",
      "  FINI                 0x00000000004014c8\n",
      "  INIT_ARRAY           0x0000000000403138\n",
      "  INIT_ARRAYSZ         0x0000000000000008\n",
      "  FINI_ARRAY           0x0000000000403140\n",
      "  FINI_ARRAYSZ         0x0000000000000008\n",
      "  GNU_HASH             0x0000000000400340\n",
      "  STRTAB               0x00000000004004f8\n",
      "  SYMTAB               0x0000000000400360\n",
      "  STRSZ                0x00000000000001a1\n",
      "  SYMENT               0x0000000000000018\n",
      "  DEBUG                0x0000000000000000\n",
      "  PLTGOT               0x0000000000403338\n",
      "  PLTRELSZ             0x0000000000000150\n",
      "  PLTREL               0x0000000000000007\n",
      "  JMPREL               0x0000000000400730\n",
      "  RELA                 0x0000000000400700\n",
      "  RELASZ               0x0000000000000030\n",
      "  RELAENT              0x0000000000000018\n",
      "  VERNEED              0x00000000004006c0\n",
      "  VERNEEDNUM           0x0000000000000002\n",
      "  VERSYM               0x000000000040069a\n",
      "\n",
      "Version References:\n",
      "  required from libc.so.6:\n",
      "    0x069691b4 0x00 03 GLIBC_2.34\n",
      "  required from libgfortran.so.5:\n",
      "    0x0792f968 0x00 02 GFORTRAN_8\n",
      "\n",
      "Sections:\n",
      "Idx Name          Size      VMA               LMA               File off  Algn\n",
      "  0 .interp       0000001c  00000000004002e0  00000000004002e0  000002e0  2**0\n",
      "                  CONTENTS, ALLOC, LOAD, READONLY, DATA\n",
      "  1 .dynsym       00000198  0000000000400360  0000000000400360  00000360  2**3\n",
      "                  CONTENTS, ALLOC, LOAD, READONLY, DATA\n",
      "  2 .dynstr       000001a1  00000000004004f8  00000000004004f8  000004f8  2**0\n",
      "                  CONTENTS, ALLOC, LOAD, READONLY, DATA\n",
      "  3 .gnu.version_r 00000040  00000000004006c0  00000000004006c0  000006c0  2**3\n",
      "                  CONTENTS, ALLOC, LOAD, READONLY, DATA\n",
      "  4 .rela.dyn     00000030  0000000000400700  0000000000400700  00000700  2**3\n",
      "                  CONTENTS, ALLOC, LOAD, READONLY, DATA\n",
      "  5 .rela.plt     00000150  0000000000400730  0000000000400730  00000730  2**3\n",
      "                  CONTENTS, ALLOC, LOAD, READONLY, DATA\n",
      "  6 .init         0000001b  0000000000401000  0000000000401000  00001000  2**2\n",
      "                  CONTENTS, ALLOC, LOAD, READONLY, CODE\n",
      "  7 .plt          000000f0  0000000000401020  0000000000401020  00001020  2**4\n",
      "                  CONTENTS, ALLOC, LOAD, READONLY, CODE\n",
      "  8 .text         000003b8  0000000000401110  0000000000401110  00001110  2**4\n",
      "                  CONTENTS, ALLOC, LOAD, READONLY, CODE\n",
      "  9 .fini         0000000d  00000000004014c8  00000000004014c8  000014c8  2**2\n",
      "                  CONTENTS, ALLOC, LOAD, READONLY, CODE\n",
      " 10 .rodata       000000a8  0000000000402000  0000000000402000  00002000  2**4\n",
      "                  CONTENTS, ALLOC, LOAD, READONLY, DATA\n",
      " 11 .eh_frame_hdr 00000024  00000000004020a8  00000000004020a8  000020a8  2**2\n",
      "                  CONTENTS, ALLOC, LOAD, READONLY, DATA\n",
      " 12 .init_array   00000008  0000000000403138  0000000000403138  00002138  2**3\n",
      "                  CONTENTS, ALLOC, LOAD, DATA\n",
      " 13 .fini_array   00000008  0000000000403140  0000000000403140  00002140  2**3\n",
      "                  CONTENTS, ALLOC, LOAD, DATA\n",
      " 14 .dynamic      000001e0  0000000000403148  0000000000403148  00002148  2**3\n",
      "                  CONTENTS, ALLOC, LOAD, DATA\n",
      " 15 .got          00000010  0000000000403328  0000000000403328  00002328  2**3\n",
      "                  CONTENTS, ALLOC, LOAD, DATA\n",
      " 16 .got.plt      00000088  0000000000403338  0000000000403338  00002338  2**3\n",
      "                  CONTENTS, ALLOC, LOAD, DATA\n",
      " 17 .data         00000010  00000000004033c0  00000000004033c0  000023c0  2**3\n",
      "                  CONTENTS, ALLOC, LOAD, DATA\n",
      " 18 .bss          00000008  00000000004033d0  00000000004033d0  000023d0  2**0\n",
      "                  ALLOC\n",
      "SYMBOL TABLE:\n",
      "no symbols\n",
      "\n",
      "\n"
     ]
    }
   ],
   "source": [
    "! objdump -x a.out"
   ]
  }
 ],
 "metadata": {
  "kernelspec": {
   "display_name": "Python 3 (ipykernel)",
   "language": "python",
   "name": "python3"
  },
  "language_info": {
   "codemirror_mode": {
    "name": "ipython",
    "version": 3
   },
   "file_extension": ".py",
   "mimetype": "text/x-python",
   "name": "python",
   "nbconvert_exporter": "python",
   "pygments_lexer": "ipython3",
   "version": "3.12.5"
  }
 },
 "nbformat": 4,
 "nbformat_minor": 5
}
