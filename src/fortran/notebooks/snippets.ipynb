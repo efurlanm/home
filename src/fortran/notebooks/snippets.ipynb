{
 "cells": [
  {
   "cell_type": "markdown",
   "metadata": {},
   "source": [
    "# Snippets\n",
    "\n",
    "*Last edited: 2023-12-13*\n",
    "\n",
    "Some code snippets that I collect over time."
   ]
  },
  {
   "cell_type": "markdown",
   "metadata": {},
   "source": [
    "### Arrays"
   ]
  },
  {
   "cell_type": "code",
   "execution_count": 20,
   "metadata": {},
   "outputs": [
    {
     "name": "stdout",
     "output_type": "stream",
     "text": [
      "Overwriting test04.f90\n"
     ]
    }
   ],
   "source": [
    "%%writefile test04.f90\n",
    "program main\n",
    "    integer :: i, j, k, N=3\n",
    "    real, dimension(3, 3, 3) :: a\n",
    "    a = reshape([.50, .73, .22, .29, .65, .41, .69, .25, .76, .64, .60, .73, &\n",
    "        .93, .24, .63, .19, .73, .77, .93, .70, .29, .53, .34, .20, .91, .02, &\n",
    "        .47], shape(a),order=[3,2,1])\n",
    "    write(*,\"(*(xg0.2))\")(((a(k,j,:)),new_line('A'),j=1,N),new_line('A'),k=1,N)\n",
    "    write(*,\"(*(xg0.2))\") a, new_line('A')\n",
    "end"
   ]
  },
  {
   "cell_type": "code",
   "execution_count": 25,
   "metadata": {},
   "outputs": [
    {
     "name": "stdout",
     "output_type": "stream",
     "text": [
      " 0.50 0.73 0.22 \n",
      " 0.29 0.65 0.41 \n",
      " 0.69 0.25 0.76 \n",
      " \n",
      " 0.64 0.60 0.73 \n",
      " 0.93 0.24 0.63 \n",
      " 0.19 0.73 0.77 \n",
      " \n",
      " 0.93 0.70 0.29 \n",
      " 0.53 0.34 0.20 \n",
      " 0.91 0.20E-1 0.47 \n",
      " \n",
      "\n",
      " 0.50 0.64 0.93 0.29 0.93 0.53 0.69 0.19 0.91 0.73 0.60 0.70 0.65 0.24 0.34 0.25 0.73 0.20E-1 0.22 0.73 0.29 0.41 0.63 0.20 0.76 0.77 0.47 \n",
      "\n",
      "11400 a.out\n"
     ]
    }
   ],
   "source": [
    "!gfortran -fimplicit-none -s -Wl,-z,norelro test04.f90; ./a.out; wc -c a.out"
   ]
  },
  {
   "cell_type": "markdown",
   "metadata": {},
   "source": [
    "### CSV"
   ]
  },
  {
   "cell_type": "code",
   "execution_count": 105,
   "metadata": {},
   "outputs": [],
   "source": [
    "import numpy as np\n",
    "x = np.array( [.50, .73, .22, \n",
    "               .29, .65, .41, \n",
    "               .69, .25, .76] ).reshape(3,3)\n",
    "np.savetxt(\"data.csv\", x, fmt='%8.4f', delimiter=\",\")"
   ]
  },
  {
   "cell_type": "code",
   "execution_count": 106,
   "metadata": {},
   "outputs": [
    {
     "name": "stdout",
     "output_type": "stream",
     "text": [
      "  0.5000,  0.7300,  0.2200\n",
      "  0.2900,  0.6500,  0.4100\n",
      "  0.6900,  0.2500,  0.7600\n"
     ]
    }
   ],
   "source": [
    "!cat data.csv"
   ]
  },
  {
   "cell_type": "code",
   "execution_count": 17,
   "metadata": {},
   "outputs": [
    {
     "name": "stdout",
     "output_type": "stream",
     "text": [
      "Overwriting test05.f90\n"
     ]
    }
   ],
   "source": [
    "%%writefile test05.f90\n",
    "program main\n",
    "    integer :: i, j, k, N=3\n",
    "    real, dimension(3,3,3) :: a\n",
    "    a = reshape([.50, .73, .22,  &\n",
    "                 .29, .65, .41,  &\n",
    "                 .69, .25, .76,  &\n",
    "                 .64, .60, .73,  &\n",
    "                 .93, .24, .63,  &\n",
    "                 .19, .73, .77,  &\n",
    "                 .93, .70, .29,  &\n",
    "                 .53, .34, .20,  &\n",
    "                 .91, .02, .47], &\n",
    "                shape(a),order=[3,2,1])\n",
    "    do k = 1, N\n",
    "    do j = 1, N\n",
    "    write(*,'(*(f5.2:\",\"))') a(k,j,:)\n",
    "    end do\n",
    "    write(*,*)\n",
    "    end do\n",
    "end"
   ]
  },
  {
   "cell_type": "code",
   "execution_count": 18,
   "metadata": {},
   "outputs": [
    {
     "name": "stdout",
     "output_type": "stream",
     "text": [
      " 0.50, 0.73, 0.22\n",
      " 0.29, 0.65, 0.41\n",
      " 0.69, 0.25, 0.76\n",
      "\n",
      " 0.64, 0.60, 0.73\n",
      " 0.93, 0.24, 0.63\n",
      " 0.19, 0.73, 0.77\n",
      "\n",
      " 0.93, 0.70, 0.29\n",
      " 0.53, 0.34, 0.20\n",
      " 0.91, 0.02, 0.47\n",
      "\n",
      "11376 a.out\n"
     ]
    }
   ],
   "source": [
    "!gfortran -fimplicit-none -s -Wl,-z,norelro test05.f90; ./a.out; wc -c a.out"
   ]
  },
  {
   "cell_type": "code",
   "execution_count": 2,
   "metadata": {},
   "outputs": [],
   "source": [
    "import numpy as np\n",
    "x=np.array([1+2j])\n",
    "np.savetxt(\"data.csv\", x, fmt='%.4f', delimiter=\",\")"
   ]
  },
  {
   "cell_type": "code",
   "execution_count": 3,
   "metadata": {},
   "outputs": [
    {
     "name": "stdout",
     "output_type": "stream",
     "text": [
      " (1.0000+2.0000j)\n"
     ]
    }
   ],
   "source": [
    "!cat data.csv"
   ]
  },
  {
   "cell_type": "markdown",
   "metadata": {},
   "source": [
    "### Using fortranmagic"
   ]
  },
  {
   "cell_type": "code",
   "execution_count": 1,
   "metadata": {},
   "outputs": [
    {
     "data": {
      "application/javascript": [
       "\n",
       "        if(typeof IPython === 'undefined') {\n",
       "            console.log('fortranmagic.py: TDOO: JupyterLab ' +\n",
       "                        'syntax highlight - unimplemented.');\n",
       "        } else {\n",
       "            IPython.CodeCell.options_default\n",
       "            .highlight_modes['magic_fortran'] = {'reg':[/^%%fortran/]};\n",
       "        }\n",
       "        "
      ]
     },
     "metadata": {},
     "output_type": "display_data"
    },
    {
     "name": "stdout",
     "output_type": "stream",
     "text": [
      "Deleted custom config. Back to default arguments for %%fortran\n",
      "New default arguments for %fortran:\n",
      "\t--f90flags \"-fimplicit-none\"\n"
     ]
    }
   ],
   "source": [
    "%reload_ext fortranmagic\n",
    "%fortran_config --defaults\n",
    "%fortran_config --f90flags \"-fimplicit-none\""
   ]
  },
  {
   "cell_type": "code",
   "execution_count": 4,
   "metadata": {},
   "outputs": [],
   "source": [
    "%%fortran\n",
    "subroutine main(x)\n",
    "    complex, intent(out) :: x\n",
    "    x = (16.0650005,2.26032639)\n",
    "end"
   ]
  },
  {
   "cell_type": "code",
   "execution_count": 5,
   "metadata": {},
   "outputs": [
    {
     "name": "stdout",
     "output_type": "stream",
     "text": [
      "<class 'complex'> (16.065000534057617+2.260326385498047j)\n",
      "x = main()\n",
      "\n",
      "Wrapper for ``main``.\n",
      "\n",
      "Returns\n",
      "-------\n",
      "x : complex\n",
      "\n"
     ]
    }
   ],
   "source": [
    "x = main()\n",
    "print(type(x), x)\n",
    "print(main.__doc__)"
   ]
  },
  {
   "cell_type": "markdown",
   "metadata": {},
   "source": [
    "### Implicit save attribute\n",
    "Source: http://www.cs.rpi.edu/~szymansk/OOF90/bugs.html\n",
    "\n",
    "y is initialized only once"
   ]
  },
  {
   "cell_type": "code",
   "execution_count": 6,
   "metadata": {},
   "outputs": [],
   "source": [
    "%%fortran\n",
    "subroutine main(x)\n",
    "    real, intent(out) :: x\n",
    "    x = test()  !y is initialized only once\n",
    "    x = test()  !y is no longer initialized\n",
    "    x = test()  !y is no longer initialized\n",
    "contains\n",
    "    real function test()\n",
    "        real :: y = 0.0  !y is initialized only once\n",
    "        y = y + 1\n",
    "        test = y\n",
    "    end\n",
    "end"
   ]
  },
  {
   "cell_type": "code",
   "execution_count": 7,
   "metadata": {
    "scrolled": true
   },
   "outputs": [
    {
     "data": {
      "text/plain": [
       "3.0"
      ]
     },
     "execution_count": 7,
     "metadata": {},
     "output_type": "execute_result"
    }
   ],
   "source": [
    "main()"
   ]
  },
  {
   "cell_type": "code",
   "execution_count": 37,
   "metadata": {},
   "outputs": [
    {
     "name": "stdout",
     "output_type": "stream",
     "text": [
      "GNU Fortran (Ubuntu 11.4.0-1ubuntu1~22.04) 11.4.0\n",
      "Copyright (C) 2021 Free Software Foundation, Inc.\n",
      "This is free software; see the source for copying conditions.  There is NO\n",
      "warranty; not even for MERCHANTABILITY or FITNESS FOR A PARTICULAR PURPOSE.\n",
      "\n"
     ]
    }
   ],
   "source": [
    "! gfortran --version"
   ]
  },
  {
   "cell_type": "markdown",
   "metadata": {},
   "source": [
    "## 3D Array from Python to Fortran\n",
    "- https://stackoverflow.com/questions/46318178/reading-arrays-from-npy-files-into-fortran-90"
   ]
  },
  {
   "cell_type": "code",
   "execution_count": 5,
   "metadata": {},
   "outputs": [],
   "source": [
    "import numpy as np\n",
    "A = np.random.rand(3, 3, 3)"
   ]
  },
  {
   "cell_type": "code",
   "execution_count": 24,
   "metadata": {},
   "outputs": [],
   "source": [
    "A.T.tofile('data.bin')"
   ]
  },
  {
   "cell_type": "code",
   "execution_count": 64,
   "metadata": {},
   "outputs": [
    {
     "name": "stdout",
     "output_type": "stream",
     "text": [
      "[[[0.36 0.95 0.25]\n",
      "  [0.73 0.07 0.83]\n",
      "  [0.4  0.26 0.88]]\n",
      "\n",
      " [[0.44 0.02 0.17]\n",
      "  [0.82 0.9  0.59]\n",
      "  [0.21 0.76 0.8 ]]\n",
      "\n",
      " [[0.43 0.35 0.37]\n",
      "  [0.08 0.55 0.75]\n",
      "  [0.63 0.17 1.  ]]]\n"
     ]
    }
   ],
   "source": [
    "np.set_printoptions(precision=2)\n",
    "print(A)"
   ]
  },
  {
   "cell_type": "code",
   "execution_count": 44,
   "metadata": {},
   "outputs": [
    {
     "name": "stdout",
     "output_type": "stream",
     "text": [
      "Overwriting test06.f90\n"
     ]
    }
   ],
   "source": [
    "%%writefile test06.f90\n",
    "program main\n",
    "    integer :: j, k           \n",
    "    integer, parameter :: N = 3\n",
    "    real(8), dimension(N, N, N) :: dat\n",
    "    \n",
    "    open(0, file='data.bin', access='stream', form='unformatted')\n",
    "    read(0) dat\n",
    "    close(0)\n",
    "\n",
    "    do k = 1, N; do j = 1, N\n",
    "        write(*,'(*(f4.2:\" \"))') dat(k,j,:)\n",
    "    end do; write(*,*); end do\n",
    "end"
   ]
  },
  {
   "cell_type": "code",
   "execution_count": 45,
   "metadata": {},
   "outputs": [],
   "source": [
    "!gfortran test06.f90 -g -fcheck=all -fimplicit-none"
   ]
  },
  {
   "cell_type": "code",
   "execution_count": 73,
   "metadata": {},
   "outputs": [
    {
     "name": "stdout",
     "output_type": "stream",
     "text": [
      "0.36 0.95 0.25\n",
      "0.73 0.07 0.83\n",
      "0.40 0.26 0.88\n",
      "\n",
      "0.44 0.02 0.17\n",
      "0.82 0.90 0.59\n",
      "0.21 0.76 0.80\n",
      "\n",
      "0.43 0.35 0.37\n",
      "0.08 0.55 0.75\n",
      "0.63 0.17 1.00\n",
      "\n"
     ]
    }
   ],
   "source": [
    "!./a.out"
   ]
  },
  {
   "cell_type": "code",
   "execution_count": null,
   "metadata": {},
   "outputs": [],
   "source": []
  }
 ],
 "metadata": {
  "kernelspec": {
   "display_name": "Python 3 (ipykernel)",
   "language": "python",
   "name": "python3"
  },
  "language_info": {
   "codemirror_mode": {
    "name": "ipython",
    "version": 3
   },
   "file_extension": ".py",
   "mimetype": "text/x-python",
   "name": "python",
   "nbconvert_exporter": "python",
   "pygments_lexer": "ipython3",
   "version": "3.12.5"
  }
 },
 "nbformat": 4,
 "nbformat_minor": 4
}
