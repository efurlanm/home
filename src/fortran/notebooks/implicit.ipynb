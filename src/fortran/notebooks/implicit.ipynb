{
 "cells": [
  {
   "cell_type": "markdown",
   "metadata": {},
   "source": [
    "# implicit none\n",
    "\n",
    "*Last edited: 2023-12-19*"
   ]
  },
  {
   "cell_type": "markdown",
   "metadata": {},
   "source": [
    "implicit none (external | type) (Fortran 2018)\n",
    "\n",
    "## `implicit none (type)`\n",
    "\n",
    "- Is the same as the existing `IMPLICIT NONE` .\n",
    "\n",
    "- If an `IMPLICIT NONE` or `IMPLICIT NONE (TYPE)` appears, there must be no other `IMPLICIT` statements in the scoping unit.\n",
    "\n",
    "- No more than one `IMPLICIT NONE` statement shall appear in a scoping unit.\n",
    "\n",
    "- `IMPLICIT INTEGER (I-N), REAL (A-H, O-Z)` : represents the default typing as specified by the Fortran Standard for names when they are not explicitly typed."
   ]
  },
  {
   "cell_type": "markdown",
   "metadata": {},
   "source": [
    "## `implicit none (external)`\n",
    "\n",
    "- Means that any references to an external procedure must be to a name that is explicitly declared to have the `EXTERNAL` attribute. In other words, no implicit interfaces.\n",
    "- If an `IMPLICIT NONE (EXTERNAL)` statement appears in a scoping unit, all dummy procedures and external procedures in that scope or a contained scope of BLOCK must have an accessible explicit interface or be declared `EXTERNAL`.\n",
    "- As long as they are explicitly declared as procedures, procedures can have an implicit interface.\n",
    "- External procedure or module must be explicity declared.\n",
    "- Helps avoid hard-to-detect errors.\n",
    "- Requires that the names of external and dummy procedures are explicitly declared as having the `external` attribute.\n",
    "- The declaration can be made by:\n",
    "    - *external* statement\n",
    "    - *external* attribute in a type declaration statement\n",
    "    - *procedure* declaration statement\n",
    "    - *interface* block\n"
   ]
  },
  {
   "cell_type": "markdown",
   "metadata": {},
   "source": [
    "## gfortran -fimplicit-none -Werror=implicit-interface\n",
    "\n",
    "gfortran has the equivalent flags `-fimplicit-none` and `-Werror=implicit-interface` which allows not to use `implicit none (external | type)` directly in each code written, allowing for simpler and cleaner code. Perhaps the only restriction on the use of flags is when there is a need to use or merge some legacy code."
   ]
  },
  {
   "cell_type": "code",
   "execution_count": 36,
   "metadata": {},
   "outputs": [
    {
     "name": "stdout",
     "output_type": "stream",
     "text": [
      "Overwriting a.f90\n"
     ]
    }
   ],
   "source": [
    "%%writefile a.f90\n",
    "\n",
    "subroutine a(x)\n",
    "    integer :: x\n",
    "    x = 345\n",
    "end\n",
    "\n",
    "program main\n",
    "    ! implicit none (type, external)  ! a() must be explicitly declared\n",
    "\n",
    "    ! external a     ! or:\n",
    "    ! procedure() a  ! or:\n",
    "    ! procedure() :: a\n",
    "\n",
    "    integer :: x\n",
    "\n",
    "    call a(x)\n",
    "    print*, x\n",
    "end"
   ]
  },
  {
   "cell_type": "code",
   "execution_count": 37,
   "metadata": {},
   "outputs": [
    {
     "name": "stdout",
     "output_type": "stream",
     "text": [
      "         345\n"
     ]
    }
   ],
   "source": [
    "! gfortran a.f90 && ./a.out"
   ]
  },
  {
   "cell_type": "code",
   "execution_count": 39,
   "metadata": {},
   "outputs": [
    {
     "name": "stdout",
     "output_type": "stream",
     "text": [
      "\u001b[01m\u001b[Ka.f90:16:13:\u001b[m\u001b[K\n",
      "\n",
      "   16 |     call a(x)\n",
      "      |             \u001b[01;31m\u001b[K1\u001b[m\u001b[K\n",
      "\u001b[01;31m\u001b[KError:\u001b[m\u001b[K Procedure ‘\u001b[01m\u001b[Ka\u001b[m\u001b[K’ called with an implicit interface at \u001b[01;31m\u001b[K(1)\u001b[m\u001b[K\n",
      "f951: some warnings being treated as errors\n"
     ]
    }
   ],
   "source": [
    "! gfortran -fimplicit-none -Werror=implicit-interface -fno-diagnostics-show-option a.f90 && ./a.out"
   ]
  },
  {
   "cell_type": "code",
   "execution_count": 69,
   "metadata": {},
   "outputs": [
    {
     "name": "stdout",
     "output_type": "stream",
     "text": [
      "Overwriting a.f90\n"
     ]
    }
   ],
   "source": [
    "%%writefile a.f90\n",
    "\n",
    "subroutine F(x)\n",
    "    real :: x\n",
    "    x = 123\n",
    "end\n",
    "\n",
    "subroutine G(x)\n",
    "    real :: x\n",
    "    x = 456\n",
    "end\n",
    "\n",
    "real function H(x)\n",
    "    real :: x\n",
    "    x = 789\n",
    "end\n",
    "\n",
    "program foo\n",
    "    implicit none (external)\n",
    "    implicit real(i)  ! this is okay\n",
    "    external :: G  ! or: 'procedure() G'\n",
    "    real :: x\n",
    "    i = 0.0\n",
    "    call F(i)  ! invalid: F lacks the EXTERNAL attribute.\n",
    "    call G(i)  ! valid: G has the EXTERNAL attribute.\n",
    "    x = H(i)   ! function is not affected\n",
    "end"
   ]
  },
  {
   "cell_type": "code",
   "execution_count": 70,
   "metadata": {},
   "outputs": [
    {
     "name": "stdout",
     "output_type": "stream",
     "text": [
      "\u001b[01m\u001b[Ka.f90:23:57:\u001b[m\u001b[K\n",
      "\n",
      "   23 |     call F(i)  ! invalid: F lacks the EXTERNAL attribute.\n",
      "      |                                                         \u001b[01;31m\u001b[K1\u001b[m\u001b[K\n",
      "\u001b[01;31m\u001b[KError:\u001b[m\u001b[K Procedure ‘\u001b[01m\u001b[Kf\u001b[m\u001b[K’ called at \u001b[01;31m\u001b[K(1)\u001b[m\u001b[K is not explicitly declared\n"
     ]
    }
   ],
   "source": [
    "! gfortran -Wall -Wextra -std=f2018 a.f90 && ./a.out"
   ]
  },
  {
   "cell_type": "code",
   "execution_count": 71,
   "metadata": {},
   "outputs": [
    {
     "name": "stdout",
     "output_type": "stream",
     "text": [
      "Overwriting a.f90\n"
     ]
    }
   ],
   "source": [
    "%%writefile a.f90\n",
    "program main\n",
    "    implicit none (type)  ! equal to 'implicit none'\n",
    "    print*, \"Hello, world!\"\n",
    "end"
   ]
  },
  {
   "cell_type": "code",
   "execution_count": 72,
   "metadata": {},
   "outputs": [
    {
     "name": "stdout",
     "output_type": "stream",
     "text": [
      " Hello, world!\n"
     ]
    }
   ],
   "source": [
    "!gfortran -Wall -Wextra -std=f2018 a.f90 && ./a.out"
   ]
  },
  {
   "cell_type": "markdown",
   "metadata": {},
   "source": [
    "## `implicit none` as compiler flag (not 2018 specific)"
   ]
  },
  {
   "cell_type": "code",
   "execution_count": 73,
   "metadata": {},
   "outputs": [
    {
     "name": "stdout",
     "output_type": "stream",
     "text": [
      "Overwriting a.f90\n"
     ]
    }
   ],
   "source": [
    "%%writefile a.f90\n",
    "program main\n",
    "    print*, a()\n",
    "contains\n",
    "    integer function a()\n",
    "        a = 123\n",
    "    end\n",
    "end"
   ]
  },
  {
   "cell_type": "code",
   "execution_count": 74,
   "metadata": {
    "scrolled": true
   },
   "outputs": [
    {
     "name": "stdout",
     "output_type": "stream",
     "text": [
      "         123\n"
     ]
    }
   ],
   "source": [
    "!gfortran -fimplicit-none -Wall -Wextra -std=f2018 a.f90 && ./a.out"
   ]
  },
  {
   "cell_type": "markdown",
   "metadata": {},
   "source": [
    "## References\n",
    "- <https://blog.esciencecenter.nl/writing-non-questionable-fortran-part-1-fc5edc7115ee>\n",
    "- <https://www.intel.com/content/www/us/en/docs/fortran-compiler/developer-guide-reference/2024-0/implicit.html>\n",
    "- <https://j3-fortran.org/doc/year/13/13-312r4.txt>\n",
    "- M. Metcalf, J. Reid, and M. Cohen: Modern Fortran Explained <https://www.google.com.br/books/edition/Modern_Fortran_Explained/sB1rDwAAQBAJ>\n",
    "- <https://fortran-lang.discourse.group/t/what-does-implicit-none-type-external-do/497/>\n",
    "- <https://community.intel.com/t5/Intel-Fortran-Compiler/implicit-none-type-external-discussion/m-p/1192942>\n",
    "- <https://www.nersc.gov/assets/Uploads/Whats-new-in-Intel-Fortran-19-1.pdf>\n",
    "- <https://gcc.gnu.org/wiki/Fortran2018Status>"
   ]
  }
 ],
 "metadata": {
  "kernelspec": {
   "display_name": "Python 3 (ipykernel)",
   "language": "python",
   "name": "python3"
  },
  "language_info": {
   "codemirror_mode": {
    "name": "ipython",
    "version": 3
   },
   "file_extension": ".py",
   "mimetype": "text/x-python",
   "name": "python",
   "nbconvert_exporter": "python",
   "pygments_lexer": "ipython3",
   "version": "3.12.5"
  }
 },
 "nbformat": 4,
 "nbformat_minor": 4
}
